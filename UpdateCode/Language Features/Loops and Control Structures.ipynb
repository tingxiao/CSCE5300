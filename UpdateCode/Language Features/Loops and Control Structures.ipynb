{
 "cells": [
  {
   "cell_type": "markdown",
   "metadata": {
    "id": "pScqI6ArLXtG"
   },
   "source": [
    "# Loops and Control Structures"
   ]
  },
  {
   "cell_type": "markdown",
   "metadata": {
    "id": "iJtFE62xLXtI"
   },
   "source": [
    "### IF Statement\n",
    "\n",
    "An if-statement will run the encapsulated code if the condition in the if-statement is True."
   ]
  },
  {
   "cell_type": "code",
   "execution_count": 1,
   "metadata": {
    "colab": {
     "base_uri": "https://localhost:8080/"
    },
    "executionInfo": {
     "elapsed": 67,
     "status": "ok",
     "timestamp": 1760973142096,
     "user": {
      "displayName": "Ting Xiao",
      "userId": "00397447855881769526"
     },
     "user_tz": 300
    },
    "id": "hKthFm2bLXtJ",
    "outputId": "6abfda6d-f52e-47e0-b801-cdce9f492ee1"
   },
   "outputs": [
    {
     "name": "stdout",
     "output_type": "stream",
     "text": [
      "positive\n"
     ]
    }
   ],
   "source": [
    "x = 5\n",
    "\n",
    "if x > 0:\n",
    "    print(\"positive\")"
   ]
  },
  {
   "cell_type": "markdown",
   "metadata": {
    "id": "icvDxukQLXtK"
   },
   "source": [
    "### IF ELSE Statement\n",
    "\n",
    "An if-else statement will run the encapsulated code if the condition is true; otherwise, it will evaluate the code in the else block."
   ]
  },
  {
   "cell_type": "code",
   "execution_count": 2,
   "metadata": {
    "colab": {
     "base_uri": "https://localhost:8080/"
    },
    "executionInfo": {
     "elapsed": 2,
     "status": "ok",
     "timestamp": 1760973142099,
     "user": {
      "displayName": "Ting Xiao",
      "userId": "00397447855881769526"
     },
     "user_tz": 300
    },
    "id": "flQ73ItpLXtK",
    "outputId": "11cb5845-1338-4bd1-ce40-ea92b11f23f4"
   },
   "outputs": [
    {
     "name": "stdout",
     "output_type": "stream",
     "text": [
      "Not positive\n"
     ]
    }
   ],
   "source": [
    "x = -2\n",
    "\n",
    "if x > 0:\n",
    "    print(\"Positive\")\n",
    "else:\n",
    "    print(\"Not positive\")"
   ]
  },
  {
   "cell_type": "markdown",
   "metadata": {
    "id": "mEIWzgCnLXtL"
   },
   "source": [
    "### IF, ELSE IF, ELSE\n",
    "\n",
    "An if-else if-else statement will run the encapsulated code if the condition is True; otherwise, if the second condition is True, it will evaluate the code within that block. If neither conditions are True, it will evaluate the else block."
   ]
  },
  {
   "cell_type": "code",
   "execution_count": 3,
   "metadata": {
    "colab": {
     "base_uri": "https://localhost:8080/"
    },
    "executionInfo": {
     "elapsed": 2,
     "status": "ok",
     "timestamp": 1760973142102,
     "user": {
      "displayName": "Ting Xiao",
      "userId": "00397447855881769526"
     },
     "user_tz": 300
    },
    "id": "yQhlX5hiLXtL",
    "outputId": "28458281-f54c-4712-ea0f-6eb89dcbee1b"
   },
   "outputs": [
    {
     "name": "stdout",
     "output_type": "stream",
     "text": [
      "zero\n"
     ]
    }
   ],
   "source": [
    "x = 0\n",
    "\n",
    "if x>0:\n",
    "   print(\"positive\")\n",
    "elif(x<0):\n",
    "   print(\"negative\")\n",
    "else:\n",
    "   print(\"zero\")"
   ]
  },
  {
   "cell_type": "code",
   "execution_count": 4,
   "metadata": {
    "colab": {
     "base_uri": "https://localhost:8080/"
    },
    "executionInfo": {
     "elapsed": 1,
     "status": "ok",
     "timestamp": 1760973142103,
     "user": {
      "displayName": "Ting Xiao",
      "userId": "00397447855881769526"
     },
     "user_tz": 300
    },
    "id": "_m8VN7tTLXtL",
    "outputId": "bcde07a6-0ba1-4dea-a736-675e72969130"
   },
   "outputs": [
    {
     "name": "stdout",
     "output_type": "stream",
     "text": [
      "positive\n"
     ]
    }
   ],
   "source": [
    "x = 100\n",
    "\n",
    "if x>0:\n",
    "   print(\"positive\")\n",
    "elif(x<0):\n",
    "   print(\"negative\")\n",
    "else:\n",
    "   print(\"zero\")"
   ]
  },
  {
   "cell_type": "markdown",
   "metadata": {
    "id": "0pyO0d67LXtM"
   },
   "source": [
    "### TERNARY Operator\n",
    "\n",
    "A ternary operator is a more compact way to express an if-else statement."
   ]
  },
  {
   "cell_type": "code",
   "execution_count": 5,
   "metadata": {
    "colab": {
     "base_uri": "https://localhost:8080/",
     "height": 35
    },
    "executionInfo": {
     "elapsed": 1,
     "status": "ok",
     "timestamp": 1760973142105,
     "user": {
      "displayName": "Ting Xiao",
      "userId": "00397447855881769526"
     },
     "user_tz": 300
    },
    "id": "Kqq2sR1rLXtM",
    "outputId": "28ae3c9c-215c-4107-be1b-69be58ef61e4"
   },
   "outputs": [
    {
     "data": {
      "text/plain": [
       "'positive'"
      ]
     },
     "execution_count": 5,
     "metadata": {},
     "output_type": "execute_result"
    }
   ],
   "source": [
    "x = 15\n",
    "\n",
    "\"positive\" if x>0 else \"not positive\""
   ]
  },
  {
   "cell_type": "markdown",
   "metadata": {
    "id": "qWkN6AWlLXtM"
   },
   "source": [
    "### FOR Loop\n",
    "\n",
    "A for-loop allows you to repeatedly loop for a specificed number of times."
   ]
  },
  {
   "cell_type": "code",
   "execution_count": 6,
   "metadata": {
    "colab": {
     "base_uri": "https://localhost:8080/"
    },
    "executionInfo": {
     "elapsed": 7,
     "status": "ok",
     "timestamp": 1760973142113,
     "user": {
      "displayName": "Ting Xiao",
      "userId": "00397447855881769526"
     },
     "user_tz": 300
    },
    "id": "NKV0iCLwLXtN",
    "outputId": "4e608741-3240-46f9-ecf4-8e4c8d897ada"
   },
   "outputs": [
    {
     "name": "stdout",
     "output_type": "stream",
     "text": [
      "1\n",
      "2\n",
      "3\n",
      "4\n",
      "5\n",
      "6\n",
      "7\n",
      "8\n",
      "9\n",
      "10\n"
     ]
    }
   ],
   "source": [
    "#This for-loop will loop 10 times since 11 is non-inclusive\n",
    "for i in range(1,11):\n",
    " print(i)"
   ]
  },
  {
   "cell_type": "markdown",
   "metadata": {
    "id": "c-8Re6q3LXtN"
   },
   "source": [
    "### FOR EACH Loop\n",
    "\n",
    "A for-each loop allows you to iterate over a collection of items."
   ]
  },
  {
   "cell_type": "code",
   "execution_count": 7,
   "metadata": {
    "colab": {
     "base_uri": "https://localhost:8080/"
    },
    "executionInfo": {
     "elapsed": 2,
     "status": "ok",
     "timestamp": 1760973142116,
     "user": {
      "displayName": "Ting Xiao",
      "userId": "00397447855881769526"
     },
     "user_tz": 300
    },
    "id": "48oIj2FHLXtN",
    "outputId": "f9a06604-c957-4e63-8e20-34324c814c5b"
   },
   "outputs": [
    {
     "name": "stdout",
     "output_type": "stream",
     "text": [
      "[293.15, 305.45, 294.15]\n"
     ]
    }
   ],
   "source": [
    "degreesC=[20.0,32.3,21.0]\n",
    "degreesKelvin=[]\n",
    "for temp in degreesC:\n",
    "  degreesKelvin.append(temp+273.15)\n",
    "print(degreesKelvin)"
   ]
  },
  {
   "cell_type": "markdown",
   "metadata": {
    "id": "K7TE7XJuLXtN"
   },
   "source": [
    "### WHILE Loop\n",
    "\n",
    "A while-loop allows you to repeatedly loop an unspecified amount of times until a condition fails."
   ]
  },
  {
   "cell_type": "code",
   "execution_count": 8,
   "metadata": {
    "colab": {
     "base_uri": "https://localhost:8080/"
    },
    "executionInfo": {
     "elapsed": 2,
     "status": "ok",
     "timestamp": 1760973142119,
     "user": {
      "displayName": "Ting Xiao",
      "userId": "00397447855881769526"
     },
     "user_tz": 300
    },
    "id": "5LgdecfbLXtN",
    "outputId": "5553df43-57ac-4ef7-a1a1-e5e3f217ca83"
   },
   "outputs": [
    {
     "name": "stdout",
     "output_type": "stream",
     "text": [
      "10\n",
      "9\n",
      "8\n",
      "7\n",
      "6\n",
      "5\n",
      "4\n",
      "3\n",
      "2\n",
      "1\n"
     ]
    }
   ],
   "source": [
    "x=10\n",
    "while x>0:\n",
    "   print(x)\n",
    "   x=x-1"
   ]
  },
  {
   "cell_type": "markdown",
   "metadata": {
    "id": "zxJFWwzDLXtN"
   },
   "source": [
    "### Break & Continue\n",
    "\n",
    "A break exits the current loop.\n",
    "\n",
    "A continue is a method that continues the execution of a loop."
   ]
  },
  {
   "cell_type": "code",
   "execution_count": 9,
   "metadata": {
    "colab": {
     "base_uri": "https://localhost:8080/"
    },
    "executionInfo": {
     "elapsed": 7,
     "status": "ok",
     "timestamp": 1760973142127,
     "user": {
      "displayName": "Ting Xiao",
      "userId": "00397447855881769526"
     },
     "user_tz": 300
    },
    "id": "Tf5URV1vLXtN",
    "outputId": "057bd86d-22b5-4259-af63-2cb761838071"
   },
   "outputs": [
    {
     "name": "stdout",
     "output_type": "stream",
     "text": [
      "2 is a prime number\n",
      "3 is a prime number\n",
      "4 equals 2 * 2\n",
      "5 is a prime number\n",
      "6 equals 2 * 3\n",
      "7 is a prime number\n",
      "8 equals 2 * 4\n",
      "9 equals 3 * 3\n"
     ]
    }
   ],
   "source": [
    "for n in range(2,10):\n",
    "    prime = True\n",
    "    for x in range(2,n):\n",
    "        if n % x == 0:\n",
    "            prime = False\n",
    "            print(n,'equals',x,'*',n//x)\n",
    "            break\n",
    "    if prime:\n",
    "        print(n, \"is a prime number\")"
   ]
  },
  {
   "cell_type": "markdown",
   "metadata": {
    "id": "YBaT5Ia9LXtO"
   },
   "source": [
    "# Helpful Links\n",
    "1. http://interactivepython.org/runestone/static/pythonds/Introduction/ControlStructures.html\n",
    "2. http://www.openbookproject.net/books/bpp4awd/ch04.html"
   ]
  }
 ],
 "metadata": {
  "colab": {
   "provenance": []
  },
  "kernelspec": {
   "display_name": "base",
   "language": "python",
   "name": "python3"
  },
  "language_info": {
   "codemirror_mode": {
    "name": "ipython",
    "version": 3
   },
   "file_extension": ".py",
   "mimetype": "text/x-python",
   "name": "python",
   "nbconvert_exporter": "python",
   "pygments_lexer": "ipython3",
   "version": "3.12.3"
  }
 },
 "nbformat": 4,
 "nbformat_minor": 0
}
