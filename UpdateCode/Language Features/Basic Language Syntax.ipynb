{
 "cells": [
  {
   "cell_type": "markdown",
   "metadata": {
    "id": "vcbdJwDIKth2"
   },
   "source": [
    "# Basic Language Syntax"
   ]
  },
  {
   "cell_type": "markdown",
   "metadata": {
    "id": "HdmKwXFOKth3"
   },
   "source": [
    "This notebook will show you some basic functions and properties of using the Python language. You can run each cell individually (ctrl + enter) or all at once (Click \"Cell\" -> \"Run All\")"
   ]
  },
  {
   "cell_type": "markdown",
   "metadata": {
    "id": "LzDMfPVnKth3"
   },
   "source": [
    "### Assignment-- Assigning values to variables"
   ]
  },
  {
   "cell_type": "code",
   "execution_count": 1,
   "metadata": {
    "executionInfo": {
     "elapsed": 6,
     "status": "ok",
     "timestamp": 1760973004163,
     "user": {
      "displayName": "Ting Xiao",
      "userId": "00397447855881769526"
     },
     "user_tz": 300
    },
    "id": "mJUuPLVpKth4"
   },
   "outputs": [],
   "source": [
    "a = 1"
   ]
  },
  {
   "cell_type": "markdown",
   "metadata": {
    "id": "rYYgBGTdKth4"
   },
   "source": [
    "### Print"
   ]
  },
  {
   "cell_type": "code",
   "execution_count": 2,
   "metadata": {
    "colab": {
     "base_uri": "https://localhost:8080/"
    },
    "executionInfo": {
     "elapsed": 67,
     "status": "ok",
     "timestamp": 1760973004234,
     "user": {
      "displayName": "Ting Xiao",
      "userId": "00397447855881769526"
     },
     "user_tz": 300
    },
    "id": "Ogv5F-h2Kth5",
    "outputId": "94bd1b36-f015-4095-b708-6c26e1236e7d"
   },
   "outputs": [
    {
     "name": "stdout",
     "output_type": "stream",
     "text": [
      "1\n"
     ]
    }
   ],
   "source": [
    "print(a)"
   ]
  },
  {
   "cell_type": "markdown",
   "metadata": {
    "id": "776jbAiIKth5"
   },
   "source": [
    "### Comments\n",
    "\n",
    "You can use ''' ''' for multiline comments in Python. However, Python's style guide favors the use of consecutive single-line comments.\n",
    "\n",
    "Here is a link for Python's Style Guide: https://www.python.org/dev/peps/pep-0008/#block-comments."
   ]
  },
  {
   "cell_type": "code",
   "execution_count": 3,
   "metadata": {
    "colab": {
     "base_uri": "https://localhost:8080/",
     "height": 35
    },
    "executionInfo": {
     "elapsed": 19,
     "status": "ok",
     "timestamp": 1760973004254,
     "user": {
      "displayName": "Ting Xiao",
      "userId": "00397447855881769526"
     },
     "user_tz": 300
    },
    "id": "8Y8AndXWKth6",
    "outputId": "65cd89b6-f4be-4fc3-ab81-8454de84ad85"
   },
   "outputs": [
    {
     "data": {
      "text/plain": [
       "'\\nThis is a multiline comment.\\n'"
      ]
     },
     "execution_count": 3,
     "metadata": {},
     "output_type": "execute_result"
    }
   ],
   "source": [
    "#Single line comment\n",
    "\n",
    "'''\n",
    "This is a multiline comment.\n",
    "'''"
   ]
  },
  {
   "cell_type": "markdown",
   "metadata": {
    "id": "rOwSSQYBKth6"
   },
   "source": [
    "### Help\n",
    "\n",
    "The help command is for finding helpful information on a function or object."
   ]
  },
  {
   "cell_type": "code",
   "execution_count": 4,
   "metadata": {
    "colab": {
     "base_uri": "https://localhost:8080/"
    },
    "executionInfo": {
     "elapsed": 16,
     "status": "ok",
     "timestamp": 1760973004254,
     "user": {
      "displayName": "Ting Xiao",
      "userId": "00397447855881769526"
     },
     "user_tz": 300
    },
    "id": "k3JZXwtuKth6",
    "outputId": "65a4d840-4798-4a6e-b607-c9efcb19a670"
   },
   "outputs": [
    {
     "name": "stdout",
     "output_type": "stream",
     "text": [
      "Help on int object:\n",
      "\n",
      "class int(object)\n",
      " |  int([x]) -> integer\n",
      " |  int(x, base=10) -> integer\n",
      " |\n",
      " |  Convert a number or string to an integer, or return 0 if no arguments\n",
      " |  are given.  If x is a number, return x.__int__().  For floating point\n",
      " |  numbers, this truncates towards zero.\n",
      " |\n",
      " |  If x is not a number or if base is given, then x must be a string,\n",
      " |  bytes, or bytearray instance representing an integer literal in the\n",
      " |  given base.  The literal can be preceded by '+' or '-' and be surrounded\n",
      " |  by whitespace.  The base defaults to 10.  Valid bases are 0 and 2-36.\n",
      " |  Base 0 means to interpret the base from the string as an integer literal.\n",
      " |  >>> int('0b100', base=0)\n",
      " |  4\n",
      " |\n",
      " |  Built-in subclasses:\n",
      " |      bool\n",
      " |\n",
      " |  Methods defined here:\n",
      " |\n",
      " |  __abs__(self, /)\n",
      " |      abs(self)\n",
      " |\n",
      " |  __add__(self, value, /)\n",
      " |      Return self+value.\n",
      " |\n",
      " |  __and__(self, value, /)\n",
      " |      Return self&value.\n",
      " |\n",
      " |  __bool__(self, /)\n",
      " |      True if self else False\n",
      " |\n",
      " |  __ceil__(...)\n",
      " |      Ceiling of an Integral returns itself.\n",
      " |\n",
      " |  __divmod__(self, value, /)\n",
      " |      Return divmod(self, value).\n",
      " |\n",
      " |  __eq__(self, value, /)\n",
      " |      Return self==value.\n",
      " |\n",
      " |  __float__(self, /)\n",
      " |      float(self)\n",
      " |\n",
      " |  __floor__(...)\n",
      " |      Flooring an Integral returns itself.\n",
      " |\n",
      " |  __floordiv__(self, value, /)\n",
      " |      Return self//value.\n",
      " |\n",
      " |  __format__(self, format_spec, /)\n",
      " |      Convert to a string according to format_spec.\n",
      " |\n",
      " |  __ge__(self, value, /)\n",
      " |      Return self>=value.\n",
      " |\n",
      " |  __getattribute__(self, name, /)\n",
      " |      Return getattr(self, name).\n",
      " |\n",
      " |  __getnewargs__(self, /)\n",
      " |\n",
      " |  __gt__(self, value, /)\n",
      " |      Return self>value.\n",
      " |\n",
      " |  __hash__(self, /)\n",
      " |      Return hash(self).\n",
      " |\n",
      " |  __index__(self, /)\n",
      " |      Return self converted to an integer, if self is suitable for use as an index into a list.\n",
      " |\n",
      " |  __int__(self, /)\n",
      " |      int(self)\n",
      " |\n",
      " |  __invert__(self, /)\n",
      " |      ~self\n",
      " |\n",
      " |  __le__(self, value, /)\n",
      " |      Return self<=value.\n",
      " |\n",
      " |  __lshift__(self, value, /)\n",
      " |      Return self<<value.\n",
      " |\n",
      " |  __lt__(self, value, /)\n",
      " |      Return self<value.\n",
      " |\n",
      " |  __mod__(self, value, /)\n",
      " |      Return self%value.\n",
      " |\n",
      " |  __mul__(self, value, /)\n",
      " |      Return self*value.\n",
      " |\n",
      " |  __ne__(self, value, /)\n",
      " |      Return self!=value.\n",
      " |\n",
      " |  __neg__(self, /)\n",
      " |      -self\n",
      " |\n",
      " |  __or__(self, value, /)\n",
      " |      Return self|value.\n",
      " |\n",
      " |  __pos__(self, /)\n",
      " |      +self\n",
      " |\n",
      " |  __pow__(self, value, mod=None, /)\n",
      " |      Return pow(self, value, mod).\n",
      " |\n",
      " |  __radd__(self, value, /)\n",
      " |      Return value+self.\n",
      " |\n",
      " |  __rand__(self, value, /)\n",
      " |      Return value&self.\n",
      " |\n",
      " |  __rdivmod__(self, value, /)\n",
      " |      Return divmod(value, self).\n",
      " |\n",
      " |  __repr__(self, /)\n",
      " |      Return repr(self).\n",
      " |\n",
      " |  __rfloordiv__(self, value, /)\n",
      " |      Return value//self.\n",
      " |\n",
      " |  __rlshift__(self, value, /)\n",
      " |      Return value<<self.\n",
      " |\n",
      " |  __rmod__(self, value, /)\n",
      " |      Return value%self.\n",
      " |\n",
      " |  __rmul__(self, value, /)\n",
      " |      Return value*self.\n",
      " |\n",
      " |  __ror__(self, value, /)\n",
      " |      Return value|self.\n",
      " |\n",
      " |  __round__(...)\n",
      " |      Rounding an Integral returns itself.\n",
      " |\n",
      " |      Rounding with an ndigits argument also returns an integer.\n",
      " |\n",
      " |  __rpow__(self, value, mod=None, /)\n",
      " |      Return pow(value, self, mod).\n",
      " |\n",
      " |  __rrshift__(self, value, /)\n",
      " |      Return value>>self.\n",
      " |\n",
      " |  __rshift__(self, value, /)\n",
      " |      Return self>>value.\n",
      " |\n",
      " |  __rsub__(self, value, /)\n",
      " |      Return value-self.\n",
      " |\n",
      " |  __rtruediv__(self, value, /)\n",
      " |      Return value/self.\n",
      " |\n",
      " |  __rxor__(self, value, /)\n",
      " |      Return value^self.\n",
      " |\n",
      " |  __sizeof__(self, /)\n",
      " |      Returns size in memory, in bytes.\n",
      " |\n",
      " |  __sub__(self, value, /)\n",
      " |      Return self-value.\n",
      " |\n",
      " |  __truediv__(self, value, /)\n",
      " |      Return self/value.\n",
      " |\n",
      " |  __trunc__(...)\n",
      " |      Truncating an Integral returns itself.\n",
      " |\n",
      " |  __xor__(self, value, /)\n",
      " |      Return self^value.\n",
      " |\n",
      " |  as_integer_ratio(self, /)\n",
      " |      Return a pair of integers, whose ratio is equal to the original int.\n",
      " |\n",
      " |      The ratio is in lowest terms and has a positive denominator.\n",
      " |\n",
      " |      >>> (10).as_integer_ratio()\n",
      " |      (10, 1)\n",
      " |      >>> (-10).as_integer_ratio()\n",
      " |      (-10, 1)\n",
      " |      >>> (0).as_integer_ratio()\n",
      " |      (0, 1)\n",
      " |\n",
      " |  bit_count(self, /)\n",
      " |      Number of ones in the binary representation of the absolute value of self.\n",
      " |\n",
      " |      Also known as the population count.\n",
      " |\n",
      " |      >>> bin(13)\n",
      " |      '0b1101'\n",
      " |      >>> (13).bit_count()\n",
      " |      3\n",
      " |\n",
      " |  bit_length(self, /)\n",
      " |      Number of bits necessary to represent self in binary.\n",
      " |\n",
      " |      >>> bin(37)\n",
      " |      '0b100101'\n",
      " |      >>> (37).bit_length()\n",
      " |      6\n",
      " |\n",
      " |  conjugate(...)\n",
      " |      Returns self, the complex conjugate of any int.\n",
      " |\n",
      " |  is_integer(self, /)\n",
      " |      Returns True. Exists for duck type compatibility with float.is_integer.\n",
      " |\n",
      " |  to_bytes(self, /, length=1, byteorder='big', *, signed=False)\n",
      " |      Return an array of bytes representing an integer.\n",
      " |\n",
      " |      length\n",
      " |        Length of bytes object to use.  An OverflowError is raised if the\n",
      " |        integer is not representable with the given number of bytes.  Default\n",
      " |        is length 1.\n",
      " |      byteorder\n",
      " |        The byte order used to represent the integer.  If byteorder is 'big',\n",
      " |        the most significant byte is at the beginning of the byte array.  If\n",
      " |        byteorder is 'little', the most significant byte is at the end of the\n",
      " |        byte array.  To request the native byte order of the host system, use\n",
      " |        `sys.byteorder' as the byte order value.  Default is to use 'big'.\n",
      " |      signed\n",
      " |        Determines whether two's complement is used to represent the integer.\n",
      " |        If signed is False and a negative integer is given, an OverflowError\n",
      " |        is raised.\n",
      " |\n",
      " |  ----------------------------------------------------------------------\n",
      " |  Class methods defined here:\n",
      " |\n",
      " |  from_bytes(bytes, byteorder='big', *, signed=False)\n",
      " |      Return the integer represented by the given array of bytes.\n",
      " |\n",
      " |      bytes\n",
      " |        Holds the array of bytes to convert.  The argument must either\n",
      " |        support the buffer protocol or be an iterable object producing bytes.\n",
      " |        Bytes and bytearray are examples of built-in objects that support the\n",
      " |        buffer protocol.\n",
      " |      byteorder\n",
      " |        The byte order used to represent the integer.  If byteorder is 'big',\n",
      " |        the most significant byte is at the beginning of the byte array.  If\n",
      " |        byteorder is 'little', the most significant byte is at the end of the\n",
      " |        byte array.  To request the native byte order of the host system, use\n",
      " |        `sys.byteorder' as the byte order value.  Default is to use 'big'.\n",
      " |      signed\n",
      " |        Indicates whether two's complement is used to represent the integer.\n",
      " |\n",
      " |  ----------------------------------------------------------------------\n",
      " |  Static methods defined here:\n",
      " |\n",
      " |  __new__(*args, **kwargs)\n",
      " |      Create and return a new object.  See help(type) for accurate signature.\n",
      " |\n",
      " |  ----------------------------------------------------------------------\n",
      " |  Data descriptors defined here:\n",
      " |\n",
      " |  denominator\n",
      " |      the denominator of a rational number in lowest terms\n",
      " |\n",
      " |  imag\n",
      " |      the imaginary part of a complex number\n",
      " |\n",
      " |  numerator\n",
      " |      the numerator of a rational number in lowest terms\n",
      " |\n",
      " |  real\n",
      " |      the real part of a complex number\n",
      "\n"
     ]
    }
   ],
   "source": [
    "help(a)"
   ]
  },
  {
   "cell_type": "markdown",
   "metadata": {
    "id": "_9ESzFwUKth7"
   },
   "source": [
    "### Type\n",
    "\n",
    "The type command is for checking the type of a variable."
   ]
  },
  {
   "cell_type": "code",
   "execution_count": 5,
   "metadata": {
    "colab": {
     "base_uri": "https://localhost:8080/"
    },
    "executionInfo": {
     "elapsed": 13,
     "status": "ok",
     "timestamp": 1760973004255,
     "user": {
      "displayName": "Ting Xiao",
      "userId": "00397447855881769526"
     },
     "user_tz": 300
    },
    "id": "oW4gWkpfKth7",
    "outputId": "3be58405-9182-46a2-d31b-ece6bf48de0d"
   },
   "outputs": [
    {
     "data": {
      "text/plain": [
       "int"
      ]
     },
     "execution_count": 5,
     "metadata": {},
     "output_type": "execute_result"
    }
   ],
   "source": [
    "type(a)"
   ]
  },
  {
   "cell_type": "markdown",
   "metadata": {
    "id": "65Q-T36NKth7"
   },
   "source": [
    "### Noting blocks of code\n",
    "\n",
    "In Python, you can note blocks of code by having the same indentation level."
   ]
  },
  {
   "cell_type": "markdown",
   "metadata": {
    "id": "cXnTi-xPKth7"
   },
   "source": [
    "# Basic Data Types: Numeric\n",
    "### Int-> any whole number\n",
    "\n",
    "For example, an int variable in Python could be assigned to -100.\n",
    "### Float-> any fractional number\n",
    "\n",
    "For example, a float variable in Python could be assigned to 1.0."
   ]
  },
  {
   "cell_type": "code",
   "execution_count": 6,
   "metadata": {
    "colab": {
     "base_uri": "https://localhost:8080/"
    },
    "executionInfo": {
     "elapsed": 38,
     "status": "ok",
     "timestamp": 1760973004291,
     "user": {
      "displayName": "Ting Xiao",
      "userId": "00397447855881769526"
     },
     "user_tz": 300
    },
    "id": "5UuJZcPcKth7",
    "outputId": "af5b99cd-f8a0-43fc-91b4-097dd793b47a"
   },
   "outputs": [
    {
     "data": {
      "text/plain": [
       "1.0"
      ]
     },
     "execution_count": 6,
     "metadata": {},
     "output_type": "execute_result"
    }
   ],
   "source": [
    "float(1)"
   ]
  },
  {
   "cell_type": "markdown",
   "metadata": {
    "id": "FL7di1SIKth7"
   },
   "source": [
    "### Long\n",
    "\n",
    "Long variables in Python are denoted as 125L.\n",
    "# Basic Data Types: String\n",
    "### String-> any finite sequence of characters"
   ]
  },
  {
   "cell_type": "code",
   "execution_count": 7,
   "metadata": {
    "colab": {
     "base_uri": "https://localhost:8080/"
    },
    "executionInfo": {
     "elapsed": 3,
     "status": "ok",
     "timestamp": 1760973004294,
     "user": {
      "displayName": "Ting Xiao",
      "userId": "00397447855881769526"
     },
     "user_tz": 300
    },
    "id": "1SFI2aKxKth7",
    "outputId": "c0742f01-f67a-46a8-e484-117993971277"
   },
   "outputs": [
    {
     "name": "stdout",
     "output_type": "stream",
     "text": [
      "2,456 people\n",
      "2,456 people\n"
     ]
    }
   ],
   "source": [
    "#You can use either double or single quotation marks for assigning string variables\n",
    "s = \"2,456 people\"\n",
    "\n",
    "s2 = '2,456 people'\n",
    "\n",
    "print(s)\n",
    "print(s2)"
   ]
  },
  {
   "cell_type": "markdown",
   "metadata": {
    "id": "oCcRbGwbKth8"
   },
   "source": [
    "### Concatenation\n",
    "\n",
    "Concatenation is for combining strings and it is completed by using +."
   ]
  },
  {
   "cell_type": "code",
   "execution_count": 8,
   "metadata": {
    "colab": {
     "base_uri": "https://localhost:8080/"
    },
    "executionInfo": {
     "elapsed": 8,
     "status": "ok",
     "timestamp": 1760973004303,
     "user": {
      "displayName": "Ting Xiao",
      "userId": "00397447855881769526"
     },
     "user_tz": 300
    },
    "id": "2pHnzLCwKth8",
    "outputId": "7917b54e-6b54-4717-8b00-29c93d4136a6"
   },
   "outputs": [
    {
     "name": "stdout",
     "output_type": "stream",
     "text": [
      "catdog\n"
     ]
    }
   ],
   "source": [
    "cat = \"cat\"\n",
    "dog = \"dog\"\n",
    "\n",
    "animal = cat + dog\n",
    "\n",
    "print(animal)"
   ]
  },
  {
   "cell_type": "markdown",
   "metadata": {
    "id": "W5F3Q4GAKth8"
   },
   "source": [
    "### Substring\n",
    "\n",
    "A substring is  subset of a string.\n",
    "\n",
    "This link explains how [slicing is utilized to create substrings](https://www.pythoncentral.io/how-to-get-a-substring-from-a-string-in-python-slicing-strings/) in Python."
   ]
  },
  {
   "cell_type": "code",
   "execution_count": 9,
   "metadata": {
    "colab": {
     "base_uri": "https://localhost:8080/"
    },
    "executionInfo": {
     "elapsed": 3,
     "status": "ok",
     "timestamp": 1760973004307,
     "user": {
      "displayName": "Ting Xiao",
      "userId": "00397447855881769526"
     },
     "user_tz": 300
    },
    "id": "FqkJsrTRKth8",
    "outputId": "f34c06cb-7c8c-49bb-c578-09253bbc57ba"
   },
   "outputs": [
    {
     "name": "stdout",
     "output_type": "stream",
     "text": [
      "mile\n"
     ]
    }
   ],
   "source": [
    "myString = \"smiles\"\n",
    "print(myString[1:5])\n",
    "#Should print ‘mile’"
   ]
  },
  {
   "cell_type": "markdown",
   "metadata": {
    "id": "LDtdH7rLKth8"
   },
   "source": [
    "### Split string into a list\n",
    "\n",
    "We want to break a string into a list based on a delimiter, which is usually by default a space \" \"."
   ]
  },
  {
   "cell_type": "code",
   "execution_count": 10,
   "metadata": {
    "colab": {
     "base_uri": "https://localhost:8080/"
    },
    "executionInfo": {
     "elapsed": 4,
     "status": "ok",
     "timestamp": 1760973004311,
     "user": {
      "displayName": "Ting Xiao",
      "userId": "00397447855881769526"
     },
     "user_tz": 300
    },
    "id": "3BVlCukqKth8",
    "outputId": "907a6c54-4326-47cc-f6a7-0cbb10ad8ab9"
   },
   "outputs": [
    {
     "data": {
      "text/plain": [
       "['my', 'string', 'is']"
      ]
     },
     "execution_count": 10,
     "metadata": {},
     "output_type": "execute_result"
    }
   ],
   "source": [
    "\"my string is\".split(\" \")\n",
    "# makes a list [“my”,”string”,”is”]"
   ]
  },
  {
   "cell_type": "markdown",
   "metadata": {
    "id": "zRH9cMemKth9"
   },
   "source": [
    "### Making a string from a list or array of strings"
   ]
  },
  {
   "cell_type": "code",
   "execution_count": 11,
   "metadata": {
    "colab": {
     "base_uri": "https://localhost:8080/",
     "height": 35
    },
    "executionInfo": {
     "elapsed": 1,
     "status": "ok",
     "timestamp": 1760973004313,
     "user": {
      "displayName": "Ting Xiao",
      "userId": "00397447855881769526"
     },
     "user_tz": 300
    },
    "id": "Txjp4H2_Kth9",
    "outputId": "2b39462a-4bbf-4554-aebe-8e9de5816216"
   },
   "outputs": [
    {
     "data": {
      "text/plain": [
       "'my string is'"
      ]
     },
     "execution_count": 11,
     "metadata": {},
     "output_type": "execute_result"
    }
   ],
   "source": [
    "\" \".join( [\"my\",\"string\",\"is\"])\n",
    "\n",
    "#Should output 'my string is'"
   ]
  },
  {
   "cell_type": "markdown",
   "metadata": {
    "id": "2Jhci8R3Kth9"
   },
   "source": [
    "### To upper-case or to lower-case\n",
    "\n",
    "We want to change the characters within a string to be of upper-case or lower-case."
   ]
  },
  {
   "cell_type": "code",
   "execution_count": 12,
   "metadata": {
    "colab": {
     "base_uri": "https://localhost:8080/",
     "height": 35
    },
    "executionInfo": {
     "elapsed": 2,
     "status": "ok",
     "timestamp": 1760973004316,
     "user": {
      "displayName": "Ting Xiao",
      "userId": "00397447855881769526"
     },
     "user_tz": 300
    },
    "id": "qN7xbfJsKth9",
    "outputId": "427a04be-3b5c-4321-934b-124c79ae79ff"
   },
   "outputs": [
    {
     "data": {
      "text/plain": [
       "'CAT'"
      ]
     },
     "execution_count": 12,
     "metadata": {},
     "output_type": "execute_result"
    }
   ],
   "source": [
    "\"cat\".upper()"
   ]
  },
  {
   "cell_type": "code",
   "execution_count": 13,
   "metadata": {
    "colab": {
     "base_uri": "https://localhost:8080/",
     "height": 35
    },
    "executionInfo": {
     "elapsed": 2,
     "status": "ok",
     "timestamp": 1760973004318,
     "user": {
      "displayName": "Ting Xiao",
      "userId": "00397447855881769526"
     },
     "user_tz": 300
    },
    "id": "XPxVfgpkKth9",
    "outputId": "f3860188-98ae-4bd8-8065-3bd418ef8937"
   },
   "outputs": [
    {
     "data": {
      "text/plain": [
       "'cat'"
      ]
     },
     "execution_count": 13,
     "metadata": {},
     "output_type": "execute_result"
    }
   ],
   "source": [
    "\"CAT\".lower()"
   ]
  },
  {
   "cell_type": "markdown",
   "metadata": {
    "id": "a7i3qcGMKth9"
   },
   "source": [
    "### Contains\n",
    "\n",
    "We want to determine if a pattern is within a string by using the \"in\" keyword."
   ]
  },
  {
   "cell_type": "code",
   "execution_count": 14,
   "metadata": {
    "colab": {
     "base_uri": "https://localhost:8080/"
    },
    "executionInfo": {
     "elapsed": 30,
     "status": "ok",
     "timestamp": 1760973004349,
     "user": {
      "displayName": "Ting Xiao",
      "userId": "00397447855881769526"
     },
     "user_tz": 300
    },
    "id": "Eqa2GWuFKth9",
    "outputId": "b6f6c573-3fc7-4667-fdc3-01d3843e42b8"
   },
   "outputs": [
    {
     "name": "stdout",
     "output_type": "stream",
     "text": [
      "The cat's name is Pepper\n",
      "Found 'cat' in the string.\n"
     ]
    }
   ],
   "source": [
    "s = \"The cat's name is Pepper\"\n",
    "print(s)\n",
    "if s.find(\"cat\") == -1:\n",
    "    print (\"No 'cat' here!\")\n",
    "else:\n",
    "    print(\"Found 'cat' in the string.\")"
   ]
  },
  {
   "cell_type": "markdown",
   "metadata": {
    "id": "risv3wr1Kth9"
   },
   "source": [
    "### Length\n",
    "\n",
    "We want to find the length of a given string by using the len() function."
   ]
  },
  {
   "cell_type": "code",
   "execution_count": 15,
   "metadata": {
    "colab": {
     "base_uri": "https://localhost:8080/"
    },
    "executionInfo": {
     "elapsed": 4,
     "status": "ok",
     "timestamp": 1760973004349,
     "user": {
      "displayName": "Ting Xiao",
      "userId": "00397447855881769526"
     },
     "user_tz": 300
    },
    "id": "ECbqn4U7Kth9",
    "outputId": "3d8ff6a7-c392-4927-b88c-89f5a8eef6c0"
   },
   "outputs": [
    {
     "data": {
      "text/plain": [
       "3"
      ]
     },
     "execution_count": 15,
     "metadata": {},
     "output_type": "execute_result"
    }
   ],
   "source": [
    "s = \"cat\"\n",
    "len(s)\n",
    "#Should output 3"
   ]
  },
  {
   "cell_type": "markdown",
   "metadata": {
    "id": "pWh6pLoJKth9"
   },
   "source": [
    "### New line/tab\n",
    "\n",
    "We create a new line by using \"\\n\".\n",
    "\n",
    "We tab by using \"\\t\"."
   ]
  },
  {
   "cell_type": "code",
   "execution_count": 16,
   "metadata": {
    "colab": {
     "base_uri": "https://localhost:8080/"
    },
    "executionInfo": {
     "elapsed": 5,
     "status": "ok",
     "timestamp": 1760973004353,
     "user": {
      "displayName": "Ting Xiao",
      "userId": "00397447855881769526"
     },
     "user_tz": 300
    },
    "id": "ACMdYNiMKth9",
    "outputId": "d20e3e30-7a53-41fd-e614-536963cd45a3"
   },
   "outputs": [
    {
     "name": "stdout",
     "output_type": "stream",
     "text": [
      "Do you want to go roller-blading?\n",
      "\tI would love to!\n"
     ]
    }
   ],
   "source": [
    "s = \"Do you want to go roller-blading?\\n\\tI would love to!\"\n",
    "print(s)"
   ]
  },
  {
   "cell_type": "markdown",
   "metadata": {
    "id": "DEHYZHM5Kth-"
   },
   "source": [
    "# Basic Data Types: Boolean\n",
    "### Boolean\n",
    "\n",
    "A boolean is a data type that represents truth values. A boolean can either be set to True or False.\n",
    "\n",
    "Things that are treated as False: None, 0, \",[],{}; most else should be True."
   ]
  },
  {
   "cell_type": "code",
   "execution_count": 17,
   "metadata": {
    "colab": {
     "base_uri": "https://localhost:8080/"
    },
    "executionInfo": {
     "elapsed": 4,
     "status": "ok",
     "timestamp": 1760973004357,
     "user": {
      "displayName": "Ting Xiao",
      "userId": "00397447855881769526"
     },
     "user_tz": 300
    },
    "id": "DhSqcFvXKth-",
    "outputId": "fc5a0dcb-74f3-4531-e9d4-ca34f56298bb"
   },
   "outputs": [
    {
     "name": "stdout",
     "output_type": "stream",
     "text": [
      "False\n",
      "True\n"
     ]
    }
   ],
   "source": [
    "false = False\n",
    "true = True\n",
    "\n",
    "print(false)\n",
    "print(true)"
   ]
  },
  {
   "cell_type": "markdown",
   "metadata": {
    "id": "akYB5-YaKth-"
   },
   "source": [
    "# Arithmetic Operators\n",
    "### Assignment\n",
    "\n",
    "Assignment of a variable involves storing data in that variable and giving it a name."
   ]
  },
  {
   "cell_type": "code",
   "execution_count": 18,
   "metadata": {
    "executionInfo": {
     "elapsed": 4,
     "status": "ok",
     "timestamp": 1760973004362,
     "user": {
      "displayName": "Ting Xiao",
      "userId": "00397447855881769526"
     },
     "user_tz": 300
    },
    "id": "mEq2X8N3Kth-"
   },
   "outputs": [],
   "source": [
    "a = 32"
   ]
  },
  {
   "cell_type": "markdown",
   "metadata": {
    "id": "FOoRcnYbKth-"
   },
   "source": [
    "### Addition"
   ]
  },
  {
   "cell_type": "code",
   "execution_count": 19,
   "metadata": {
    "colab": {
     "base_uri": "https://localhost:8080/"
    },
    "executionInfo": {
     "elapsed": 15,
     "status": "ok",
     "timestamp": 1760973004378,
     "user": {
      "displayName": "Ting Xiao",
      "userId": "00397447855881769526"
     },
     "user_tz": 300
    },
    "id": "jzjHeDujKtiD",
    "outputId": "46cce0fb-de0e-4926-8714-b9cb94be0a31"
   },
   "outputs": [
    {
     "name": "stdout",
     "output_type": "stream",
     "text": [
      "10\n"
     ]
    }
   ],
   "source": [
    "a = 4\n",
    "b = 6\n",
    "\n",
    "print(a+b)\n",
    "#Should output 10"
   ]
  },
  {
   "cell_type": "markdown",
   "metadata": {
    "id": "Mr64c_OqKtiD"
   },
   "source": [
    "### Subtraction"
   ]
  },
  {
   "cell_type": "code",
   "execution_count": 20,
   "metadata": {
    "colab": {
     "base_uri": "https://localhost:8080/"
    },
    "executionInfo": {
     "elapsed": 42,
     "status": "ok",
     "timestamp": 1760973004420,
     "user": {
      "displayName": "Ting Xiao",
      "userId": "00397447855881769526"
     },
     "user_tz": 300
    },
    "id": "umTp43F8KtiD",
    "outputId": "808e1447-4a03-4c8f-e086-b09b4275a41c"
   },
   "outputs": [
    {
     "name": "stdout",
     "output_type": "stream",
     "text": [
      "-2\n"
     ]
    }
   ],
   "source": [
    "print(a-b)\n",
    "#Should output -2"
   ]
  },
  {
   "cell_type": "markdown",
   "metadata": {
    "id": "GPsy5et7KtiE"
   },
   "source": [
    "### Multiplication"
   ]
  },
  {
   "cell_type": "code",
   "execution_count": 21,
   "metadata": {
    "colab": {
     "base_uri": "https://localhost:8080/"
    },
    "executionInfo": {
     "elapsed": 2,
     "status": "ok",
     "timestamp": 1760973004422,
     "user": {
      "displayName": "Ting Xiao",
      "userId": "00397447855881769526"
     },
     "user_tz": 300
    },
    "id": "vrpQvRQvKtiE",
    "outputId": "55b24819-c680-493a-bd1c-c51e9f905d63"
   },
   "outputs": [
    {
     "name": "stdout",
     "output_type": "stream",
     "text": [
      "24\n"
     ]
    }
   ],
   "source": [
    "print (a*b)\n",
    "#Should output 24"
   ]
  },
  {
   "cell_type": "markdown",
   "metadata": {
    "id": "nngYZiH7KtiE"
   },
   "source": [
    "### Division"
   ]
  },
  {
   "cell_type": "code",
   "execution_count": 22,
   "metadata": {
    "colab": {
     "base_uri": "https://localhost:8080/"
    },
    "executionInfo": {
     "elapsed": 1,
     "status": "ok",
     "timestamp": 1760973004423,
     "user": {
      "displayName": "Ting Xiao",
      "userId": "00397447855881769526"
     },
     "user_tz": 300
    },
    "id": "D0RJpGMLKtiE",
    "outputId": "e8f66666-0606-464f-b243-3fcbdff8e8fa"
   },
   "outputs": [
    {
     "name": "stdout",
     "output_type": "stream",
     "text": [
      "0.6666666666666666\n"
     ]
    }
   ],
   "source": [
    "print (a/b)\n",
    "#Should output 0.66666666666 (repeating)"
   ]
  },
  {
   "cell_type": "markdown",
   "metadata": {
    "id": "5dF0uFJnKtiE"
   },
   "source": [
    "### Power"
   ]
  },
  {
   "cell_type": "code",
   "execution_count": 23,
   "metadata": {
    "colab": {
     "base_uri": "https://localhost:8080/"
    },
    "executionInfo": {
     "elapsed": 34,
     "status": "ok",
     "timestamp": 1760973004478,
     "user": {
      "displayName": "Ting Xiao",
      "userId": "00397447855881769526"
     },
     "user_tz": 300
    },
    "id": "NUlMC5E-KtiE",
    "outputId": "8dfc169d-b334-42e9-956b-1302e12e16a6"
   },
   "outputs": [
    {
     "name": "stdout",
     "output_type": "stream",
     "text": [
      "4096\n"
     ]
    }
   ],
   "source": [
    "print (a**b)\n",
    "\n",
    "#Should output 4^6 = 4096"
   ]
  },
  {
   "cell_type": "markdown",
   "metadata": {
    "id": "-oanEyBZKtiE"
   },
   "source": [
    "### e<sup>x</sup>"
   ]
  },
  {
   "cell_type": "code",
   "execution_count": 24,
   "metadata": {
    "colab": {
     "base_uri": "https://localhost:8080/"
    },
    "executionInfo": {
     "elapsed": 2,
     "status": "ok",
     "timestamp": 1760973004480,
     "user": {
      "displayName": "Ting Xiao",
      "userId": "00397447855881769526"
     },
     "user_tz": 300
    },
    "id": "OWfqQUVMKtiE",
    "outputId": "832133c7-ee19-4b6a-b07e-4fb1efa1a21b"
   },
   "outputs": [
    {
     "data": {
      "text/plain": [
       "7.38905609893065"
      ]
     },
     "execution_count": 24,
     "metadata": {},
     "output_type": "execute_result"
    }
   ],
   "source": [
    "import numpy\n",
    "import math\n",
    "\n",
    "x=2\n",
    "\n",
    "math.exp(x)\n",
    "#OR\n",
    "numpy.exp(x)\n",
    "\n",
    "#Calculates e^2"
   ]
  },
  {
   "cell_type": "markdown",
   "metadata": {
    "id": "4VFEwQy4KtiE"
   },
   "source": [
    "### Remainder"
   ]
  },
  {
   "cell_type": "code",
   "execution_count": 25,
   "metadata": {
    "colab": {
     "base_uri": "https://localhost:8080/"
    },
    "executionInfo": {
     "elapsed": 1,
     "status": "ok",
     "timestamp": 1760973004482,
     "user": {
      "displayName": "Ting Xiao",
      "userId": "00397447855881769526"
     },
     "user_tz": 300
    },
    "id": "Mv-l57RRKtiE",
    "outputId": "a2adc3f6-d8c3-465e-e664-df5d375caf62"
   },
   "outputs": [
    {
     "name": "stdout",
     "output_type": "stream",
     "text": [
      "1\n"
     ]
    }
   ],
   "source": [
    "x = 11\n",
    "y = 2\n",
    "\n",
    "print(x%y)\n",
    "#Should return 1"
   ]
  },
  {
   "cell_type": "code",
   "execution_count": 26,
   "metadata": {
    "colab": {
     "base_uri": "https://localhost:8080/"
    },
    "executionInfo": {
     "elapsed": 1,
     "status": "ok",
     "timestamp": 1760973004483,
     "user": {
      "displayName": "Ting Xiao",
      "userId": "00397447855881769526"
     },
     "user_tz": 300
    },
    "id": "Qw9XVUa6KtiE",
    "outputId": "1de6af3f-fcf2-4edd-881e-36013a25dc67"
   },
   "outputs": [
    {
     "name": "stdout",
     "output_type": "stream",
     "text": [
      "1\n"
     ]
    }
   ],
   "source": [
    "import numpy\n",
    "\n",
    "print(numpy.remainder(x,y))"
   ]
  },
  {
   "cell_type": "code",
   "execution_count": 27,
   "metadata": {
    "colab": {
     "base_uri": "https://localhost:8080/"
    },
    "executionInfo": {
     "elapsed": 6,
     "status": "ok",
     "timestamp": 1760973004490,
     "user": {
      "displayName": "Ting Xiao",
      "userId": "00397447855881769526"
     },
     "user_tz": 300
    },
    "id": "Tj1cu5PNKtiE",
    "outputId": "5bf7f0c1-ea37-4713-b702-9331b2fc8349"
   },
   "outputs": [
    {
     "name": "stdout",
     "output_type": "stream",
     "text": [
      "1\n"
     ]
    }
   ],
   "source": [
    "print(numpy.fmod(x,y))"
   ]
  },
  {
   "cell_type": "code",
   "execution_count": 28,
   "metadata": {
    "colab": {
     "base_uri": "https://localhost:8080/"
    },
    "executionInfo": {
     "elapsed": 44,
     "status": "ok",
     "timestamp": 1760973004535,
     "user": {
      "displayName": "Ting Xiao",
      "userId": "00397447855881769526"
     },
     "user_tz": 300
    },
    "id": "GalXpJdiKtiE",
    "outputId": "b200dd25-6066-42f3-8dd3-a951c67f83fa"
   },
   "outputs": [
    {
     "name": "stdout",
     "output_type": "stream",
     "text": [
      "1.0\n"
     ]
    }
   ],
   "source": [
    "import math\n",
    "\n",
    "print(math.fmod(x,y))"
   ]
  },
  {
   "cell_type": "markdown",
   "metadata": {
    "id": "83qEk7T_KtiE"
   },
   "source": [
    "### Factorial"
   ]
  },
  {
   "cell_type": "code",
   "execution_count": 29,
   "metadata": {
    "colab": {
     "base_uri": "https://localhost:8080/"
    },
    "executionInfo": {
     "elapsed": 2,
     "status": "ok",
     "timestamp": 1760973004538,
     "user": {
      "displayName": "Ting Xiao",
      "userId": "00397447855881769526"
     },
     "user_tz": 300
    },
    "id": "MkUOuKEqKtiF",
    "outputId": "0e4c7358-f175-4135-8ea3-1395e05d96d8"
   },
   "outputs": [
    {
     "data": {
      "text/plain": [
       "120"
      ]
     },
     "execution_count": 29,
     "metadata": {},
     "output_type": "execute_result"
    }
   ],
   "source": [
    "math.factorial(5)\n",
    "\n",
    "#Outputs 5 * 4 * 3 * 2 * 1"
   ]
  },
  {
   "cell_type": "markdown",
   "metadata": {
    "id": "CmT3dpXpKtiF"
   },
   "source": [
    "### Round"
   ]
  },
  {
   "cell_type": "code",
   "execution_count": 30,
   "metadata": {
    "colab": {
     "base_uri": "https://localhost:8080/"
    },
    "executionInfo": {
     "elapsed": 1,
     "status": "ok",
     "timestamp": 1760973004539,
     "user": {
      "displayName": "Ting Xiao",
      "userId": "00397447855881769526"
     },
     "user_tz": 300
    },
    "id": "toKtRiPEKtiF",
    "outputId": "9b0f49ff-5389-4627-fd7b-ca0d3583f84f"
   },
   "outputs": [
    {
     "name": "stdout",
     "output_type": "stream",
     "text": [
      "53\n"
     ]
    }
   ],
   "source": [
    "m = 52.678\n",
    "\n",
    "print(round(m))\n",
    "#Outputs 53"
   ]
  },
  {
   "cell_type": "markdown",
   "metadata": {
    "id": "F39Dnq2yKtiF"
   },
   "source": [
    "### Round Up"
   ]
  },
  {
   "cell_type": "code",
   "execution_count": 31,
   "metadata": {
    "colab": {
     "base_uri": "https://localhost:8080/"
    },
    "executionInfo": {
     "elapsed": 52,
     "status": "ok",
     "timestamp": 1760973004592,
     "user": {
      "displayName": "Ting Xiao",
      "userId": "00397447855881769526"
     },
     "user_tz": 300
    },
    "id": "Cn8JVZKWKtiF",
    "outputId": "a199847d-a564-4b76-f0a9-3446079e3c6d"
   },
   "outputs": [
    {
     "name": "stdout",
     "output_type": "stream",
     "text": [
      "53\n"
     ]
    }
   ],
   "source": [
    "print(math.ceil(m))\n",
    "\n",
    "#Outputs 53"
   ]
  },
  {
   "cell_type": "markdown",
   "metadata": {
    "id": "lwWoeV7TKtiF"
   },
   "source": [
    "### Round Down"
   ]
  },
  {
   "cell_type": "code",
   "execution_count": 32,
   "metadata": {
    "colab": {
     "base_uri": "https://localhost:8080/"
    },
    "executionInfo": {
     "elapsed": 3,
     "status": "ok",
     "timestamp": 1760973004597,
     "user": {
      "displayName": "Ting Xiao",
      "userId": "00397447855881769526"
     },
     "user_tz": 300
    },
    "id": "f3NnYV6vKtiF",
    "outputId": "4fac3c33-0e64-4976-9900-43a3ce5664fb"
   },
   "outputs": [
    {
     "name": "stdout",
     "output_type": "stream",
     "text": [
      "52\n"
     ]
    }
   ],
   "source": [
    "print(math.floor(m))\n",
    "\n",
    "#Outputs 52"
   ]
  },
  {
   "cell_type": "markdown",
   "metadata": {
    "id": "cA7sc1zaKtiF"
   },
   "source": [
    "### Print variable to 2 decimal places"
   ]
  },
  {
   "cell_type": "code",
   "execution_count": 33,
   "metadata": {
    "colab": {
     "base_uri": "https://localhost:8080/",
     "height": 35
    },
    "executionInfo": {
     "elapsed": 9,
     "status": "ok",
     "timestamp": 1760973004609,
     "user": {
      "displayName": "Ting Xiao",
      "userId": "00397447855881769526"
     },
     "user_tz": 300
    },
    "id": "NjQzhhm1KtiF",
    "outputId": "3479db49-74f0-417e-b7be-328d9c5bc270"
   },
   "outputs": [
    {
     "data": {
      "text/plain": [
       "'43.59'"
      ]
     },
     "execution_count": 33,
     "metadata": {},
     "output_type": "execute_result"
    }
   ],
   "source": [
    "var = 43.590267\n",
    "\n",
    "\"%0.2f\"%var\n",
    "#Should output 43.59"
   ]
  },
  {
   "cell_type": "markdown",
   "metadata": {
    "id": "xc0Y87XCKtiF"
   },
   "source": [
    "# Constants and random numbers\n",
    "### 𝝅"
   ]
  },
  {
   "cell_type": "code",
   "execution_count": 34,
   "metadata": {
    "colab": {
     "base_uri": "https://localhost:8080/"
    },
    "executionInfo": {
     "elapsed": 4,
     "status": "ok",
     "timestamp": 1760973004614,
     "user": {
      "displayName": "Ting Xiao",
      "userId": "00397447855881769526"
     },
     "user_tz": 300
    },
    "id": "XNPHLHQXKtiF",
    "outputId": "8de93b38-818a-42e7-d73c-62067f72df75"
   },
   "outputs": [
    {
     "name": "stdout",
     "output_type": "stream",
     "text": [
      "3.141592653589793\n",
      "3.141592653589793\n"
     ]
    }
   ],
   "source": [
    "import math\n",
    "import numpy\n",
    "\n",
    "print(math.pi)\n",
    "#OR\n",
    "print(numpy.pi)"
   ]
  },
  {
   "cell_type": "markdown",
   "metadata": {
    "id": "EbZ_PP5cKtiF"
   },
   "source": [
    "### Random integer from 1 to 6 inclusive"
   ]
  },
  {
   "cell_type": "code",
   "execution_count": 35,
   "metadata": {
    "colab": {
     "base_uri": "https://localhost:8080/"
    },
    "executionInfo": {
     "elapsed": 27,
     "status": "ok",
     "timestamp": 1760973004641,
     "user": {
      "displayName": "Ting Xiao",
      "userId": "00397447855881769526"
     },
     "user_tz": 300
    },
    "id": "R6KWTyVkKtiF",
    "outputId": "412a5517-d605-4c02-e4d3-6e8960a1761c"
   },
   "outputs": [
    {
     "data": {
      "text/plain": [
       "2"
      ]
     },
     "execution_count": 35,
     "metadata": {},
     "output_type": "execute_result"
    }
   ],
   "source": [
    "import random\n",
    "\n",
    "random.randint(1,6)"
   ]
  },
  {
   "cell_type": "markdown",
   "metadata": {
    "id": "bqgltbmfKtiF"
   },
   "source": [
    "### Random number from 2.5 to 7.5"
   ]
  },
  {
   "cell_type": "code",
   "execution_count": 36,
   "metadata": {
    "colab": {
     "base_uri": "https://localhost:8080/"
    },
    "executionInfo": {
     "elapsed": 20,
     "status": "ok",
     "timestamp": 1760973004661,
     "user": {
      "displayName": "Ting Xiao",
      "userId": "00397447855881769526"
     },
     "user_tz": 300
    },
    "id": "1kEK4SzzKtiF",
    "outputId": "0c1cd445-2a7a-46ea-9dc6-fcf00c026998"
   },
   "outputs": [
    {
     "data": {
      "text/plain": [
       "5.0333903208212245"
      ]
     },
     "execution_count": 36,
     "metadata": {},
     "output_type": "execute_result"
    }
   ],
   "source": [
    "import random\n",
    "random.uniform(2.5,7.5)"
   ]
  },
  {
   "cell_type": "markdown",
   "metadata": {
    "id": "ThugwBROKtiG"
   },
   "source": [
    "### Generate random numbers from normally distributed numbers"
   ]
  },
  {
   "cell_type": "code",
   "execution_count": 37,
   "metadata": {
    "colab": {
     "base_uri": "https://localhost:8080/"
    },
    "executionInfo": {
     "elapsed": 39,
     "status": "ok",
     "timestamp": 1760973004709,
     "user": {
      "displayName": "Ting Xiao",
      "userId": "00397447855881769526"
     },
     "user_tz": 300
    },
    "id": "9juhJPQUKtiG",
    "outputId": "6e75a29c-87f5-4368-e741-659f47673d1b"
   },
   "outputs": [
    {
     "data": {
      "text/plain": [
       "0.02758565303423176"
      ]
     },
     "execution_count": 37,
     "metadata": {},
     "output_type": "execute_result"
    }
   ],
   "source": [
    "import random\n",
    "import numpy\n",
    "\n",
    "numpy.random.normal()"
   ]
  },
  {
   "cell_type": "markdown",
   "metadata": {
    "id": "f0RpyI2GKtiG"
   },
   "source": [
    "# Relational Operators"
   ]
  },
  {
   "cell_type": "markdown",
   "metadata": {
    "id": "9Je_NJWbKtiG"
   },
   "source": [
    "### Equal to\n",
    "\n",
    "To determine whether two variables are equal, we use the == operator."
   ]
  },
  {
   "cell_type": "code",
   "execution_count": 38,
   "metadata": {
    "colab": {
     "base_uri": "https://localhost:8080/"
    },
    "executionInfo": {
     "elapsed": 2,
     "status": "ok",
     "timestamp": 1760973004712,
     "user": {
      "displayName": "Ting Xiao",
      "userId": "00397447855881769526"
     },
     "user_tz": 300
    },
    "id": "FvE5g5rcKtiG",
    "outputId": "daf8b797-84f2-4488-8065-315f4f143fd6"
   },
   "outputs": [
    {
     "data": {
      "text/plain": [
       "True"
      ]
     },
     "execution_count": 38,
     "metadata": {},
     "output_type": "execute_result"
    }
   ],
   "source": [
    "'cat' == 'cat'"
   ]
  },
  {
   "cell_type": "code",
   "execution_count": 39,
   "metadata": {
    "colab": {
     "base_uri": "https://localhost:8080/"
    },
    "executionInfo": {
     "elapsed": 3,
     "status": "ok",
     "timestamp": 1760973004724,
     "user": {
      "displayName": "Ting Xiao",
      "userId": "00397447855881769526"
     },
     "user_tz": 300
    },
    "id": "iurHkR0KKtiG",
    "outputId": "dc59da71-1552-43b3-d955-18202a89ac77"
   },
   "outputs": [
    {
     "name": "stdout",
     "output_type": "stream",
     "text": [
      "False\n"
     ]
    }
   ],
   "source": [
    "name1 = 'Emily'\n",
    "name2 = 'Bob'\n",
    "equalNames = (name1 == name2)\n",
    "print(equalNames)"
   ]
  },
  {
   "cell_type": "markdown",
   "metadata": {
    "id": "E8p42dpvKtiG"
   },
   "source": [
    "### Not equal to\n",
    "\n",
    "To determine whether two variables are not equal, we use the != operator."
   ]
  },
  {
   "cell_type": "code",
   "execution_count": 40,
   "metadata": {
    "colab": {
     "base_uri": "https://localhost:8080/"
    },
    "executionInfo": {
     "elapsed": 5,
     "status": "ok",
     "timestamp": 1760973004731,
     "user": {
      "displayName": "Ting Xiao",
      "userId": "00397447855881769526"
     },
     "user_tz": 300
    },
    "id": "ebW7MYSLKtiG",
    "outputId": "d1fe17e7-1f87-4d73-b769-ff5b45f3cee5"
   },
   "outputs": [
    {
     "name": "stdout",
     "output_type": "stream",
     "text": [
      "True\n"
     ]
    }
   ],
   "source": [
    "name1 = 'Emily'\n",
    "name2 = 'Bob'\n",
    "equalNames = (name1 != name2)\n",
    "print(equalNames)\n",
    "#Should output True"
   ]
  },
  {
   "cell_type": "markdown",
   "metadata": {
    "id": "FRZYvTqBKtiG"
   },
   "source": [
    "### Greater than or equal to\n",
    "\n",
    "The greater than or equal to operator is >=."
   ]
  },
  {
   "cell_type": "code",
   "execution_count": 41,
   "metadata": {
    "colab": {
     "base_uri": "https://localhost:8080/"
    },
    "executionInfo": {
     "elapsed": 38,
     "status": "ok",
     "timestamp": 1760973004770,
     "user": {
      "displayName": "Ting Xiao",
      "userId": "00397447855881769526"
     },
     "user_tz": 300
    },
    "id": "q7h5-aUIKtiG",
    "outputId": "547498dc-e67a-4832-8244-25c59c72e091"
   },
   "outputs": [
    {
     "name": "stdout",
     "output_type": "stream",
     "text": [
      "True\n"
     ]
    }
   ],
   "source": [
    "x = 7\n",
    "y = 7\n",
    "print(x >= y)\n",
    "#Should output True"
   ]
  },
  {
   "cell_type": "code",
   "execution_count": 42,
   "metadata": {
    "colab": {
     "base_uri": "https://localhost:8080/"
    },
    "executionInfo": {
     "elapsed": 14,
     "status": "ok",
     "timestamp": 1760973004785,
     "user": {
      "displayName": "Ting Xiao",
      "userId": "00397447855881769526"
     },
     "user_tz": 300
    },
    "id": "hy53VfmPKtiG",
    "outputId": "90820202-12c3-45df-910c-3f83d5d46454"
   },
   "outputs": [
    {
     "name": "stdout",
     "output_type": "stream",
     "text": [
      "False\n"
     ]
    }
   ],
   "source": [
    "a = 2\n",
    "b = 10\n",
    "print(a >= b)\n",
    "#Should output False"
   ]
  },
  {
   "cell_type": "markdown",
   "metadata": {
    "id": "wm0i-Km0KtiG"
   },
   "source": [
    "### Less than or equal to\n",
    "\n",
    "The less than or equal to operator is <=."
   ]
  },
  {
   "cell_type": "code",
   "execution_count": 43,
   "metadata": {
    "colab": {
     "base_uri": "https://localhost:8080/"
    },
    "executionInfo": {
     "elapsed": 4,
     "status": "ok",
     "timestamp": 1760973004790,
     "user": {
      "displayName": "Ting Xiao",
      "userId": "00397447855881769526"
     },
     "user_tz": 300
    },
    "id": "svT5JLcJKtiG",
    "outputId": "8a11e991-a70a-4328-82a9-6330abac6ddd"
   },
   "outputs": [
    {
     "name": "stdout",
     "output_type": "stream",
     "text": [
      "True\n"
     ]
    }
   ],
   "source": [
    "print (a <= b)\n",
    "#Should output True"
   ]
  },
  {
   "cell_type": "markdown",
   "metadata": {
    "id": "Yq09Y77AKtiG"
   },
   "source": [
    "# Logical Operators"
   ]
  },
  {
   "cell_type": "markdown",
   "metadata": {
    "id": "RFYszQfqKtiG"
   },
   "source": [
    "### a AND b\n",
    "\n",
    "We use the \"and\" keyword."
   ]
  },
  {
   "cell_type": "code",
   "execution_count": 44,
   "metadata": {
    "colab": {
     "base_uri": "https://localhost:8080/"
    },
    "executionInfo": {
     "elapsed": 3,
     "status": "ok",
     "timestamp": 1760973004794,
     "user": {
      "displayName": "Ting Xiao",
      "userId": "00397447855881769526"
     },
     "user_tz": 300
    },
    "id": "8iVhUrXEKtiG",
    "outputId": "3193f397-5293-474f-b7cb-f11e45cc4334"
   },
   "outputs": [
    {
     "data": {
      "text/plain": [
       "True"
      ]
     },
     "execution_count": 44,
     "metadata": {},
     "output_type": "execute_result"
    }
   ],
   "source": [
    "a = True\n",
    "b = True\n",
    "a and b"
   ]
  },
  {
   "cell_type": "code",
   "execution_count": 45,
   "metadata": {
    "colab": {
     "base_uri": "https://localhost:8080/"
    },
    "executionInfo": {
     "elapsed": 3,
     "status": "ok",
     "timestamp": 1760973004797,
     "user": {
      "displayName": "Ting Xiao",
      "userId": "00397447855881769526"
     },
     "user_tz": 300
    },
    "id": "Kx6LLiIfKtiH",
    "outputId": "ac681acb-f39d-4629-8e57-3380fb46055c"
   },
   "outputs": [
    {
     "data": {
      "text/plain": [
       "False"
      ]
     },
     "execution_count": 45,
     "metadata": {},
     "output_type": "execute_result"
    }
   ],
   "source": [
    "a = True\n",
    "b = False\n",
    "a and b"
   ]
  },
  {
   "cell_type": "markdown",
   "metadata": {
    "id": "mXv7yKGrKtiH"
   },
   "source": [
    "### a OR b\n",
    "\n",
    "We use the \"or\" keyword."
   ]
  },
  {
   "cell_type": "code",
   "execution_count": 46,
   "metadata": {
    "colab": {
     "base_uri": "https://localhost:8080/"
    },
    "executionInfo": {
     "elapsed": 2,
     "status": "ok",
     "timestamp": 1760973004799,
     "user": {
      "displayName": "Ting Xiao",
      "userId": "00397447855881769526"
     },
     "user_tz": 300
    },
    "id": "3VPiRCTcKtiH",
    "outputId": "f9d6255a-f792-4b58-e0e4-b4bc66173dd3"
   },
   "outputs": [
    {
     "data": {
      "text/plain": [
       "True"
      ]
     },
     "execution_count": 46,
     "metadata": {},
     "output_type": "execute_result"
    }
   ],
   "source": [
    "a = True\n",
    "b = False\n",
    "a or b"
   ]
  },
  {
   "cell_type": "code",
   "execution_count": 47,
   "metadata": {
    "colab": {
     "base_uri": "https://localhost:8080/"
    },
    "executionInfo": {
     "elapsed": 4,
     "status": "ok",
     "timestamp": 1760973004803,
     "user": {
      "displayName": "Ting Xiao",
      "userId": "00397447855881769526"
     },
     "user_tz": 300
    },
    "id": "3Nb7XxjtKtiH",
    "outputId": "7ad0440c-1193-4042-f19a-f29b56c6c6e3"
   },
   "outputs": [
    {
     "data": {
      "text/plain": [
       "False"
      ]
     },
     "execution_count": 47,
     "metadata": {},
     "output_type": "execute_result"
    }
   ],
   "source": [
    "a = False\n",
    "b = False\n",
    "a or b"
   ]
  },
  {
   "cell_type": "markdown",
   "metadata": {
    "id": "09bJZOlbKtiH"
   },
   "source": [
    "### NOT a\n",
    "\n",
    "We use the \"not a\" keyword."
   ]
  },
  {
   "cell_type": "code",
   "execution_count": 48,
   "metadata": {
    "colab": {
     "base_uri": "https://localhost:8080/"
    },
    "executionInfo": {
     "elapsed": 1,
     "status": "ok",
     "timestamp": 1760973004806,
     "user": {
      "displayName": "Ting Xiao",
      "userId": "00397447855881769526"
     },
     "user_tz": 300
    },
    "id": "bfavDY5TKtiH",
    "outputId": "1547d59a-677b-436e-91f8-d50cc7895a4c"
   },
   "outputs": [
    {
     "data": {
      "text/plain": [
       "False"
      ]
     },
     "execution_count": 48,
     "metadata": {},
     "output_type": "execute_result"
    }
   ],
   "source": [
    "a = True\n",
    "not a"
   ]
  },
  {
   "cell_type": "code",
   "execution_count": 49,
   "metadata": {
    "colab": {
     "base_uri": "https://localhost:8080/"
    },
    "executionInfo": {
     "elapsed": 1,
     "status": "ok",
     "timestamp": 1760973004808,
     "user": {
      "displayName": "Ting Xiao",
      "userId": "00397447855881769526"
     },
     "user_tz": 300
    },
    "id": "YM1Dj-IkKtiH",
    "outputId": "3778d230-7002-42ed-92f6-0616d2b9dc52"
   },
   "outputs": [
    {
     "data": {
      "text/plain": [
       "True"
      ]
     },
     "execution_count": 49,
     "metadata": {},
     "output_type": "execute_result"
    }
   ],
   "source": [
    "a = False\n",
    "not a"
   ]
  },
  {
   "cell_type": "markdown",
   "metadata": {
    "id": "NdpbYn0uKtiH"
   },
   "source": [
    "# Helpful Hints"
   ]
  },
  {
   "cell_type": "markdown",
   "metadata": {
    "id": "mX_oMVIiKtiH"
   },
   "source": [
    "### Documentation\n",
    "\n",
    "The following link can be used to learn about documentation with Python: https://docs.python.org/3/."
   ]
  },
  {
   "cell_type": "markdown",
   "metadata": {
    "id": "mYkZC9rIKtiH"
   },
   "source": [
    "### More cheat sheets\n",
    "\n",
    "The following link provides a cheat sheet to help coding with Python a little bit easier: http://www.cogsci.rpi.edu/~destem/igd/python_cheat_sheet.pdf."
   ]
  }
 ],
 "metadata": {
  "colab": {
   "provenance": []
  },
  "kernelspec": {
   "display_name": "base",
   "language": "python",
   "name": "python3"
  },
  "language_info": {
   "codemirror_mode": {
    "name": "ipython",
    "version": 3
   },
   "file_extension": ".py",
   "mimetype": "text/x-python",
   "name": "python",
   "nbconvert_exporter": "python",
   "pygments_lexer": "ipython3",
   "version": "3.12.3"
  }
 },
 "nbformat": 4,
 "nbformat_minor": 0
}
