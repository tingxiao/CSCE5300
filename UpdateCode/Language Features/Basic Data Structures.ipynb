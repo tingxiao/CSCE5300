{
 "cells": [
  {
   "cell_type": "markdown",
   "metadata": {
    "id": "-_qVoTNcKmYh"
   },
   "source": [
    "# Basic Data Structures"
   ]
  },
  {
   "cell_type": "markdown",
   "metadata": {
    "id": "BfWa_cF-KmYi"
   },
   "source": [
    "# Lists (ordered collection of various objects)"
   ]
  },
  {
   "cell_type": "markdown",
   "metadata": {
    "id": "XGviPH9SKmYi"
   },
   "source": [
    "### Instantiation"
   ]
  },
  {
   "cell_type": "code",
   "execution_count": 1,
   "metadata": {
    "executionInfo": {
     "elapsed": 13,
     "status": "ok",
     "timestamp": 1760972934748,
     "user": {
      "displayName": "Ting Xiao",
      "userId": "00397447855881769526"
     },
     "user_tz": 300
    },
    "id": "uB9zb8PzKmYj"
   },
   "outputs": [],
   "source": [
    "data = [1.7,\"hello\",4,\"cat\"]"
   ]
  },
  {
   "cell_type": "markdown",
   "metadata": {
    "id": "QtiXlyBxKmYj"
   },
   "source": [
    "### Accessing the first element"
   ]
  },
  {
   "cell_type": "code",
   "execution_count": 2,
   "metadata": {
    "colab": {
     "base_uri": "https://localhost:8080/"
    },
    "executionInfo": {
     "elapsed": 48,
     "status": "ok",
     "timestamp": 1760972934804,
     "user": {
      "displayName": "Ting Xiao",
      "userId": "00397447855881769526"
     },
     "user_tz": 300
    },
    "id": "4T1FUafEKmYj",
    "outputId": "a3a31cbd-1dac-42eb-d89e-1e9d268d4d54"
   },
   "outputs": [
    {
     "data": {
      "text/plain": [
       "1.7"
      ]
     },
     "execution_count": 2,
     "metadata": {},
     "output_type": "execute_result"
    }
   ],
   "source": [
    "data[0]"
   ]
  },
  {
   "cell_type": "markdown",
   "metadata": {
    "id": "0Qksb51aKmYk"
   },
   "source": [
    "### Updating an element"
   ]
  },
  {
   "cell_type": "code",
   "execution_count": 3,
   "metadata": {
    "colab": {
     "base_uri": "https://localhost:8080/"
    },
    "executionInfo": {
     "elapsed": 3,
     "status": "ok",
     "timestamp": 1760972934808,
     "user": {
      "displayName": "Ting Xiao",
      "userId": "00397447855881769526"
     },
     "user_tz": 300
    },
    "id": "b5ys-ic5KmYk",
    "outputId": "5495bc55-cf9b-4448-ecc7-765882d051a1"
   },
   "outputs": [
    {
     "name": "stdout",
     "output_type": "stream",
     "text": [
      "[1.7, 3.5, 4, 'cat']\n"
     ]
    }
   ],
   "source": [
    "data[1] = 3.5\n",
    "# data = [1.7,3.5,4,\"cat\"]\n",
    "print(data)"
   ]
  },
  {
   "cell_type": "markdown",
   "metadata": {
    "id": "nJBzddXyKmYl"
   },
   "source": [
    "### Slicing a list (get the first 3 elements)"
   ]
  },
  {
   "cell_type": "code",
   "execution_count": 4,
   "metadata": {
    "colab": {
     "base_uri": "https://localhost:8080/"
    },
    "executionInfo": {
     "elapsed": 20,
     "status": "ok",
     "timestamp": 1760972934828,
     "user": {
      "displayName": "Ting Xiao",
      "userId": "00397447855881769526"
     },
     "user_tz": 300
    },
    "id": "kd54bny1KmYl",
    "outputId": "c3018293-ea6b-45a4-d198-8f45fd8a4d8a"
   },
   "outputs": [
    {
     "data": {
      "text/plain": [
       "[1.7, 3.5, 4]"
      ]
     },
     "execution_count": 4,
     "metadata": {},
     "output_type": "execute_result"
    }
   ],
   "source": [
    "data[0:3]"
   ]
  },
  {
   "cell_type": "markdown",
   "metadata": {
    "id": "HFIZupCJKmYl"
   },
   "source": [
    "### Finding the length of a list\n",
    "\n",
    "We use the len() function."
   ]
  },
  {
   "cell_type": "code",
   "execution_count": 5,
   "metadata": {
    "colab": {
     "base_uri": "https://localhost:8080/"
    },
    "executionInfo": {
     "elapsed": 18,
     "status": "ok",
     "timestamp": 1760972934828,
     "user": {
      "displayName": "Ting Xiao",
      "userId": "00397447855881769526"
     },
     "user_tz": 300
    },
    "id": "J2-IxMzeKmYl",
    "outputId": "28eafa84-a830-41bd-e427-b8c8c6ee7069"
   },
   "outputs": [
    {
     "data": {
      "text/plain": [
       "4"
      ]
     },
     "execution_count": 5,
     "metadata": {},
     "output_type": "execute_result"
    }
   ],
   "source": [
    "len(data)"
   ]
  },
  {
   "cell_type": "markdown",
   "metadata": {
    "id": "-i6BuK19KmYm"
   },
   "source": [
    "### Accessing elements at the end of a list"
   ]
  },
  {
   "cell_type": "code",
   "execution_count": 6,
   "metadata": {
    "colab": {
     "base_uri": "https://localhost:8080/"
    },
    "executionInfo": {
     "elapsed": 16,
     "status": "ok",
     "timestamp": 1760972934828,
     "user": {
      "displayName": "Ting Xiao",
      "userId": "00397447855881769526"
     },
     "user_tz": 300
    },
    "id": "5GurAALqKmYm",
    "outputId": "7d0bb38b-bb4d-4b83-816d-8c1aa9cd4ab2"
   },
   "outputs": [
    {
     "name": "stdout",
     "output_type": "stream",
     "text": [
      "cat\n"
     ]
    }
   ],
   "source": [
    "last = data[-1]\n",
    "print(last)\n",
    "#Should output \"cat\""
   ]
  },
  {
   "cell_type": "markdown",
   "metadata": {
    "id": "SghVa-BvKmYm"
   },
   "source": [
    "### Traversing through a list\n",
    "\n",
    "This is useful if you don't need the index and if you're not changing anything."
   ]
  },
  {
   "cell_type": "code",
   "execution_count": 7,
   "metadata": {
    "colab": {
     "base_uri": "https://localhost:8080/"
    },
    "executionInfo": {
     "elapsed": 5,
     "status": "ok",
     "timestamp": 1760972934828,
     "user": {
      "displayName": "Ting Xiao",
      "userId": "00397447855881769526"
     },
     "user_tz": 300
    },
    "id": "AzCLvjFiKmYm",
    "outputId": "aa68e73d-4522-49a8-b1e1-274416b6d37b"
   },
   "outputs": [
    {
     "name": "stdout",
     "output_type": "stream",
     "text": [
      "1.7\n",
      "3.5\n",
      "4\n",
      "cat\n"
     ]
    }
   ],
   "source": [
    "for item in data:\n",
    "    print(item)"
   ]
  },
  {
   "cell_type": "markdown",
   "metadata": {
    "id": "63jz26d9KmYm"
   },
   "source": [
    "### Traversing a list by indices in the list\n",
    "\n",
    "This technique is useful if you want to change items in the list."
   ]
  },
  {
   "cell_type": "code",
   "execution_count": 8,
   "metadata": {
    "colab": {
     "base_uri": "https://localhost:8080/"
    },
    "executionInfo": {
     "elapsed": 3,
     "status": "ok",
     "timestamp": 1760972934828,
     "user": {
      "displayName": "Ting Xiao",
      "userId": "00397447855881769526"
     },
     "user_tz": 300
    },
    "id": "WzmY-UydKmYm",
    "outputId": "7dd38496-ef89-4d95-ba1f-e840d2593b27"
   },
   "outputs": [
    {
     "name": "stdout",
     "output_type": "stream",
     "text": [
      "1.7\n",
      "3.5\n",
      "4\n",
      "cat\n"
     ]
    }
   ],
   "source": [
    "for i in range(len(data)):\n",
    "    print(data[i])"
   ]
  },
  {
   "cell_type": "markdown",
   "metadata": {
    "id": "RtRQe8QrKmYm"
   },
   "source": [
    "### Contains\n",
    "\n",
    "This method will return either True or False."
   ]
  },
  {
   "cell_type": "code",
   "execution_count": 9,
   "metadata": {
    "colab": {
     "base_uri": "https://localhost:8080/"
    },
    "executionInfo": {
     "elapsed": 1,
     "status": "ok",
     "timestamp": 1760972934830,
     "user": {
      "displayName": "Ting Xiao",
      "userId": "00397447855881769526"
     },
     "user_tz": 300
    },
    "id": "HF503XO9KmYm",
    "outputId": "217845db-a924-4462-c475-3f41949bf2ad"
   },
   "outputs": [
    {
     "data": {
      "text/plain": [
       "False"
      ]
     },
     "execution_count": 9,
     "metadata": {},
     "output_type": "execute_result"
    }
   ],
   "source": [
    "6 in data\n",
    "#Returns False"
   ]
  },
  {
   "cell_type": "code",
   "execution_count": 10,
   "metadata": {
    "colab": {
     "base_uri": "https://localhost:8080/"
    },
    "executionInfo": {
     "elapsed": 8,
     "status": "ok",
     "timestamp": 1760972934838,
     "user": {
      "displayName": "Ting Xiao",
      "userId": "00397447855881769526"
     },
     "user_tz": 300
    },
    "id": "nTB5xZAgKmYm",
    "outputId": "581333c0-6378-4767-fefb-64b0f486b182"
   },
   "outputs": [
    {
     "data": {
      "text/plain": [
       "True"
      ]
     },
     "execution_count": 10,
     "metadata": {},
     "output_type": "execute_result"
    }
   ],
   "source": [
    "1.7 in data\n",
    "#Returns True"
   ]
  },
  {
   "cell_type": "markdown",
   "metadata": {
    "id": "aYeaT-o8KmYn"
   },
   "source": [
    "### Removing an element from a list by the item's position"
   ]
  },
  {
   "cell_type": "code",
   "execution_count": 11,
   "metadata": {
    "colab": {
     "base_uri": "https://localhost:8080/"
    },
    "executionInfo": {
     "elapsed": 45,
     "status": "ok",
     "timestamp": 1760972934884,
     "user": {
      "displayName": "Ting Xiao",
      "userId": "00397447855881769526"
     },
     "user_tz": 300
    },
    "id": "x8iRENSZKmYn",
    "outputId": "5b432604-723d-4601-9d01-b3a0efe2af89"
   },
   "outputs": [
    {
     "name": "stdout",
     "output_type": "stream",
     "text": [
      "[1.7, 4, 'cat']\n"
     ]
    }
   ],
   "source": [
    "del data[1]\n",
    "#Deletes 3.5 from the list\n",
    "print(data)"
   ]
  },
  {
   "cell_type": "markdown",
   "metadata": {
    "id": "a50kxUTfKmYn"
   },
   "source": [
    "### Remove a single element from a list by the item's value"
   ]
  },
  {
   "cell_type": "code",
   "execution_count": 12,
   "metadata": {
    "colab": {
     "base_uri": "https://localhost:8080/"
    },
    "executionInfo": {
     "elapsed": 2,
     "status": "ok",
     "timestamp": 1760972934884,
     "user": {
      "displayName": "Ting Xiao",
      "userId": "00397447855881769526"
     },
     "user_tz": 300
    },
    "id": "rE61yCJZKmYn",
    "outputId": "b125fe29-69d4-460d-bc48-dd00890fdd2a"
   },
   "outputs": [
    {
     "name": "stdout",
     "output_type": "stream",
     "text": [
      "[1.7, 4]\n"
     ]
    }
   ],
   "source": [
    "data.remove('cat')\n",
    "#Removes 'cat' from the list\n",
    "print(data)"
   ]
  },
  {
   "cell_type": "markdown",
   "metadata": {
    "id": "LPk66Yu7KmYn"
   },
   "source": [
    "### Split string into a list\n",
    "\n",
    "We want to break a string into a list based on a delimiter, which is usually a space \" \"."
   ]
  },
  {
   "cell_type": "code",
   "execution_count": 13,
   "metadata": {
    "colab": {
     "base_uri": "https://localhost:8080/"
    },
    "executionInfo": {
     "elapsed": 2,
     "status": "ok",
     "timestamp": 1760972934886,
     "user": {
      "displayName": "Ting Xiao",
      "userId": "00397447855881769526"
     },
     "user_tz": 300
    },
    "id": "Y36bVcZAKmYn",
    "outputId": "216a5fb4-e660-461e-8238-53b4c971a58c"
   },
   "outputs": [
    {
     "data": {
      "text/plain": [
       "['my', 'string', 'is']"
      ]
     },
     "execution_count": 13,
     "metadata": {},
     "output_type": "execute_result"
    }
   ],
   "source": [
    "\"my string is\".split(\" \")\n",
    "# makes a list [“my”,”string”,”is”]"
   ]
  },
  {
   "cell_type": "markdown",
   "metadata": {
    "id": "EqIHJBv5KmYn"
   },
   "source": [
    "### Make string from a list or array of strings"
   ]
  },
  {
   "cell_type": "code",
   "execution_count": 14,
   "metadata": {
    "colab": {
     "base_uri": "https://localhost:8080/",
     "height": 35
    },
    "executionInfo": {
     "elapsed": 1,
     "status": "ok",
     "timestamp": 1760972934887,
     "user": {
      "displayName": "Ting Xiao",
      "userId": "00397447855881769526"
     },
     "user_tz": 300
    },
    "id": "aA5jbBA8KmYn",
    "outputId": "b051a3d7-e24d-49d7-83d7-b08f224b9465"
   },
   "outputs": [
    {
     "data": {
      "text/plain": [
       "'my string is'"
      ]
     },
     "execution_count": 14,
     "metadata": {},
     "output_type": "execute_result"
    }
   ],
   "source": [
    "\" \".join( [\"my\",\"string\",\"is\"])"
   ]
  },
  {
   "cell_type": "markdown",
   "metadata": {
    "id": "Djj575zoKmYn"
   },
   "source": [
    "# Dictionary (collection of key-value pairs)\n",
    "\n",
    "In Python, we call a collection of key-value pairs a dictionary, and a mix of key types is allowed.\n",
    "### Instantiation"
   ]
  },
  {
   "cell_type": "code",
   "execution_count": 15,
   "metadata": {
    "executionInfo": {
     "elapsed": 0,
     "status": "ok",
     "timestamp": 1760972934888,
     "user": {
      "displayName": "Ting Xiao",
      "userId": "00397447855881769526"
     },
     "user_tz": 300
    },
    "id": "NjsMdXVtKmYn"
   },
   "outputs": [],
   "source": [
    "empty = {}\n",
    "\n",
    "song = {\"A\" : \"do\", \"B\": \"re\", \"C\" : \"mi\"}\n",
    "#\"A\"->\"do\"\n",
    "#\"B\"->\"re\"\n",
    "#\"C\"->\"mi\""
   ]
  },
  {
   "cell_type": "markdown",
   "metadata": {
    "id": "QFZEFWRqKmYo"
   },
   "source": [
    "### Finding the size of the dictionary\n",
    "\n",
    "We also use the len() function to find the size of the dictionary."
   ]
  },
  {
   "cell_type": "code",
   "execution_count": 16,
   "metadata": {
    "colab": {
     "base_uri": "https://localhost:8080/"
    },
    "executionInfo": {
     "elapsed": 9,
     "status": "ok",
     "timestamp": 1760972934897,
     "user": {
      "displayName": "Ting Xiao",
      "userId": "00397447855881769526"
     },
     "user_tz": 300
    },
    "id": "tRXBs74wKmYo",
    "outputId": "66a276f5-c409-4187-d2bb-135517a4cc01"
   },
   "outputs": [
    {
     "data": {
      "text/plain": [
       "3"
      ]
     },
     "execution_count": 16,
     "metadata": {},
     "output_type": "execute_result"
    }
   ],
   "source": [
    "len(song)"
   ]
  },
  {
   "cell_type": "markdown",
   "metadata": {
    "id": "t5TFlhRwKmYo"
   },
   "source": [
    "### Looking up values by key in the dictionary"
   ]
  },
  {
   "cell_type": "code",
   "execution_count": 17,
   "metadata": {
    "colab": {
     "base_uri": "https://localhost:8080/",
     "height": 35
    },
    "executionInfo": {
     "elapsed": 3,
     "status": "ok",
     "timestamp": 1760972934900,
     "user": {
      "displayName": "Ting Xiao",
      "userId": "00397447855881769526"
     },
     "user_tz": 300
    },
    "id": "_q2zmEoiKmYo",
    "outputId": "55293328-f10f-48bd-a047-1d116dc17c90"
   },
   "outputs": [
    {
     "data": {
      "text/plain": [
       "'do'"
      ]
     },
     "execution_count": 17,
     "metadata": {},
     "output_type": "execute_result"
    }
   ],
   "source": [
    "song['A']"
   ]
  },
  {
   "cell_type": "markdown",
   "metadata": {
    "id": "vje6DgscKmYo"
   },
   "source": [
    "### Updating/Setting a value"
   ]
  },
  {
   "cell_type": "code",
   "execution_count": 18,
   "metadata": {
    "colab": {
     "base_uri": "https://localhost:8080/",
     "height": 35
    },
    "executionInfo": {
     "elapsed": 13,
     "status": "ok",
     "timestamp": 1760972934913,
     "user": {
      "displayName": "Ting Xiao",
      "userId": "00397447855881769526"
     },
     "user_tz": 300
    },
    "id": "rXuiCLmoKmYo",
    "outputId": "a7013ebb-9d45-4069-860f-74611cc141bf"
   },
   "outputs": [
    {
     "data": {
      "text/plain": [
       "'fa'"
      ]
     },
     "execution_count": 18,
     "metadata": {},
     "output_type": "execute_result"
    }
   ],
   "source": [
    "song['A'] = 'fa'\n",
    "song['A']"
   ]
  },
  {
   "cell_type": "markdown",
   "metadata": {
    "id": "SVZp7gaQKmYo"
   },
   "source": [
    "### Get the list of keys\n",
    "\n",
    "We use the keys() function."
   ]
  },
  {
   "cell_type": "code",
   "execution_count": 19,
   "metadata": {
    "colab": {
     "base_uri": "https://localhost:8080/"
    },
    "executionInfo": {
     "elapsed": 13,
     "status": "ok",
     "timestamp": 1760972934914,
     "user": {
      "displayName": "Ting Xiao",
      "userId": "00397447855881769526"
     },
     "user_tz": 300
    },
    "id": "VTYdbtyuKmYo",
    "outputId": "6651409e-ca13-4935-d319-ef75261a418a"
   },
   "outputs": [
    {
     "data": {
      "text/plain": [
       "dict_keys(['A', 'B', 'C'])"
      ]
     },
     "execution_count": 19,
     "metadata": {},
     "output_type": "execute_result"
    }
   ],
   "source": [
    "song.keys()\n",
    "#Returns A,B,C"
   ]
  },
  {
   "cell_type": "markdown",
   "metadata": {
    "id": "b63iUFN3KmYt"
   },
   "source": [
    "### Get the list of values\n",
    "\n",
    "We use the values() function."
   ]
  },
  {
   "cell_type": "code",
   "execution_count": 20,
   "metadata": {
    "colab": {
     "base_uri": "https://localhost:8080/"
    },
    "executionInfo": {
     "elapsed": 9,
     "status": "ok",
     "timestamp": 1760972934965,
     "user": {
      "displayName": "Ting Xiao",
      "userId": "00397447855881769526"
     },
     "user_tz": 300
    },
    "id": "hjBLkEg6KmYt",
    "outputId": "dde3460f-f25f-452c-b7d9-2af48b642971"
   },
   "outputs": [
    {
     "data": {
      "text/plain": [
       "dict_values(['fa', 're', 'mi'])"
      ]
     },
     "execution_count": 20,
     "metadata": {},
     "output_type": "execute_result"
    }
   ],
   "source": [
    "song.values()\n",
    "#Returns fa, re, mi"
   ]
  },
  {
   "cell_type": "markdown",
   "metadata": {
    "id": "p1pNhBccKmYt"
   },
   "source": [
    "### Determining if a key is present in the dictionary"
   ]
  },
  {
   "cell_type": "code",
   "execution_count": 21,
   "metadata": {
    "colab": {
     "base_uri": "https://localhost:8080/"
    },
    "executionInfo": {
     "elapsed": 4,
     "status": "ok",
     "timestamp": 1760972934969,
     "user": {
      "displayName": "Ting Xiao",
      "userId": "00397447855881769526"
     },
     "user_tz": 300
    },
    "id": "tZVrWLbjKmYt",
    "outputId": "f2802ff3-4556-4523-8dc8-629b79c5361d"
   },
   "outputs": [
    {
     "data": {
      "text/plain": [
       "True"
      ]
     },
     "execution_count": 21,
     "metadata": {},
     "output_type": "execute_result"
    }
   ],
   "source": [
    "'A' in song"
   ]
  },
  {
   "cell_type": "code",
   "execution_count": 22,
   "metadata": {
    "colab": {
     "base_uri": "https://localhost:8080/"
    },
    "executionInfo": {
     "elapsed": 2,
     "status": "ok",
     "timestamp": 1760972934969,
     "user": {
      "displayName": "Ting Xiao",
      "userId": "00397447855881769526"
     },
     "user_tz": 300
    },
    "id": "yA7RvGDBKmYt",
    "outputId": "67ccca63-3cef-481b-d8ff-112c0a98f8b5"
   },
   "outputs": [
    {
     "data": {
      "text/plain": [
       "False"
      ]
     },
     "execution_count": 22,
     "metadata": {},
     "output_type": "execute_result"
    }
   ],
   "source": [
    "'Z' in song"
   ]
  },
  {
   "cell_type": "markdown",
   "metadata": {
    "id": "Rv1le5WCKmYt"
   },
   "source": [
    "### Removal"
   ]
  },
  {
   "cell_type": "code",
   "execution_count": 23,
   "metadata": {
    "colab": {
     "base_uri": "https://localhost:8080/"
    },
    "executionInfo": {
     "elapsed": 2,
     "status": "ok",
     "timestamp": 1760972934970,
     "user": {
      "displayName": "Ting Xiao",
      "userId": "00397447855881769526"
     },
     "user_tz": 300
    },
    "id": "saFQj2HfKmYt",
    "outputId": "b896a8ac-30b7-4f01-d3ad-1327b0a8d1d3"
   },
   "outputs": [
    {
     "name": "stdout",
     "output_type": "stream",
     "text": [
      "{'B': 're', 'C': 'mi'}\n"
     ]
    }
   ],
   "source": [
    "del song['A']\n",
    "print(song)"
   ]
  },
  {
   "cell_type": "markdown",
   "metadata": {
    "id": "gK6uyl3BKmYt"
   },
   "source": [
    "### Traversal through the dictionary, iterating by key"
   ]
  },
  {
   "cell_type": "code",
   "execution_count": 24,
   "metadata": {
    "colab": {
     "base_uri": "https://localhost:8080/"
    },
    "executionInfo": {
     "elapsed": 2,
     "status": "ok",
     "timestamp": 1760972934972,
     "user": {
      "displayName": "Ting Xiao",
      "userId": "00397447855881769526"
     },
     "user_tz": 300
    },
    "id": "CY8oG1whKmYu",
    "outputId": "0fde4569-0b4d-427c-87ef-fdde10ed5513"
   },
   "outputs": [
    {
     "name": "stdout",
     "output_type": "stream",
     "text": [
      "re\n",
      "mi\n"
     ]
    }
   ],
   "source": [
    "for key in song:\n",
    "    print(song[key])"
   ]
  },
  {
   "cell_type": "markdown",
   "metadata": {
    "id": "ubFcZrGTKmYu"
   },
   "source": [
    "# 2D Arrays\n",
    "\n",
    "In Python, we use the NumPy package, which is used for scientific computing with Python."
   ]
  },
  {
   "cell_type": "code",
   "execution_count": 25,
   "metadata": {
    "executionInfo": {
     "elapsed": 1,
     "status": "ok",
     "timestamp": 1760972934973,
     "user": {
      "displayName": "Ting Xiao",
      "userId": "00397447855881769526"
     },
     "user_tz": 300
    },
    "id": "MPlggtHUKmYu"
   },
   "outputs": [],
   "source": [
    "import numpy as np"
   ]
  },
  {
   "cell_type": "markdown",
   "metadata": {
    "id": "ii4jgNamKmYu"
   },
   "source": [
    "### Instantiation"
   ]
  },
  {
   "cell_type": "code",
   "execution_count": 26,
   "metadata": {
    "executionInfo": {
     "elapsed": 0,
     "status": "ok",
     "timestamp": 1760972934973,
     "user": {
      "displayName": "Ting Xiao",
      "userId": "00397447855881769526"
     },
     "user_tz": 300
    },
    "id": "819y_XSpKmYu"
   },
   "outputs": [],
   "source": [
    "data = np.array([[1,2],[3,4]])"
   ]
  },
  {
   "cell_type": "markdown",
   "metadata": {
    "id": "IwwDw31rKmYu"
   },
   "source": [
    "### Checking the array type"
   ]
  },
  {
   "cell_type": "code",
   "execution_count": 27,
   "metadata": {
    "colab": {
     "base_uri": "https://localhost:8080/"
    },
    "executionInfo": {
     "elapsed": 2,
     "status": "ok",
     "timestamp": 1760972934983,
     "user": {
      "displayName": "Ting Xiao",
      "userId": "00397447855881769526"
     },
     "user_tz": 300
    },
    "id": "SnyqloJQKmYu",
    "outputId": "20ea1ead-403e-4f14-f375-83284e0a836e"
   },
   "outputs": [
    {
     "data": {
      "text/plain": [
       "dtype('int32')"
      ]
     },
     "execution_count": 27,
     "metadata": {},
     "output_type": "execute_result"
    }
   ],
   "source": [
    "data.dtype\n",
    "\n",
    "#Array of Integers"
   ]
  },
  {
   "cell_type": "markdown",
   "metadata": {
    "id": "2u8XpmCvKmYu"
   },
   "source": [
    "### Finding the dimensions of an array"
   ]
  },
  {
   "cell_type": "code",
   "execution_count": 28,
   "metadata": {
    "colab": {
     "base_uri": "https://localhost:8080/"
    },
    "executionInfo": {
     "elapsed": 1,
     "status": "ok",
     "timestamp": 1760972934985,
     "user": {
      "displayName": "Ting Xiao",
      "userId": "00397447855881769526"
     },
     "user_tz": 300
    },
    "id": "v2a8bRi4KmYu",
    "outputId": "426f824d-419a-497e-e142-03621a0373d9"
   },
   "outputs": [
    {
     "data": {
      "text/plain": [
       "(2, 2)"
      ]
     },
     "execution_count": 28,
     "metadata": {},
     "output_type": "execute_result"
    }
   ],
   "source": [
    "data.shape\n",
    "\n",
    "#2 rows and 2 colums"
   ]
  },
  {
   "cell_type": "markdown",
   "metadata": {
    "id": "ZMo7pEVNKmYu"
   },
   "source": [
    "### Find the number of rows or columns in an array"
   ]
  },
  {
   "cell_type": "code",
   "execution_count": 29,
   "metadata": {
    "colab": {
     "base_uri": "https://localhost:8080/"
    },
    "executionInfo": {
     "elapsed": 1,
     "status": "ok",
     "timestamp": 1760972934986,
     "user": {
      "displayName": "Ting Xiao",
      "userId": "00397447855881769526"
     },
     "user_tz": 300
    },
    "id": "LyMm_NuDKmYu",
    "outputId": "48a4cdce-93d4-4cfc-c1f7-7690fcf22a4e"
   },
   "outputs": [
    {
     "name": "stdout",
     "output_type": "stream",
     "text": [
      "Rows: 2\n",
      "Columns: 2\n"
     ]
    }
   ],
   "source": [
    "#Number of rows\n",
    "print(\"Rows:\", data.shape[0])\n",
    "\n",
    "#Number of columns\n",
    "print(\"Columns:\", data.shape[1])"
   ]
  },
  {
   "cell_type": "markdown",
   "metadata": {
    "id": "LqRgwIlhKmYu"
   },
   "source": [
    "### Accessing the first value in an array"
   ]
  },
  {
   "cell_type": "code",
   "execution_count": 30,
   "metadata": {
    "colab": {
     "base_uri": "https://localhost:8080/"
    },
    "executionInfo": {
     "elapsed": 10,
     "status": "ok",
     "timestamp": 1760972934998,
     "user": {
      "displayName": "Ting Xiao",
      "userId": "00397447855881769526"
     },
     "user_tz": 300
    },
    "id": "3Ym8DsJfKmYu",
    "outputId": "9082d737-645e-4e17-8888-bd104bb4dcfa"
   },
   "outputs": [
    {
     "data": {
      "text/plain": [
       "1"
      ]
     },
     "execution_count": 30,
     "metadata": {},
     "output_type": "execute_result"
    }
   ],
   "source": [
    "data[0,0]\n",
    "#Returns 1"
   ]
  },
  {
   "cell_type": "markdown",
   "metadata": {
    "id": "TRqlpGyEKmYu"
   },
   "source": [
    "### Setting a value"
   ]
  },
  {
   "cell_type": "code",
   "execution_count": 31,
   "metadata": {
    "executionInfo": {
     "elapsed": 0,
     "status": "ok",
     "timestamp": 1760972934998,
     "user": {
      "displayName": "Ting Xiao",
      "userId": "00397447855881769526"
     },
     "user_tz": 300
    },
    "id": "SYOa_Mu8KmYu"
   },
   "outputs": [],
   "source": [
    "data[0,0] = 5"
   ]
  },
  {
   "cell_type": "markdown",
   "metadata": {
    "id": "y-Ei3LM5KmYu"
   },
   "source": [
    "### Copying an array\n",
    "\n",
    "We copy an array by using NumPy's copy function."
   ]
  },
  {
   "cell_type": "code",
   "execution_count": 32,
   "metadata": {
    "colab": {
     "base_uri": "https://localhost:8080/"
    },
    "executionInfo": {
     "elapsed": 1,
     "status": "ok",
     "timestamp": 1760972935000,
     "user": {
      "displayName": "Ting Xiao",
      "userId": "00397447855881769526"
     },
     "user_tz": 300
    },
    "id": "iQTOBVeKKmYu",
    "outputId": "36727819-0133-41a3-f2b7-74edde211830"
   },
   "outputs": [
    {
     "name": "stdout",
     "output_type": "stream",
     "text": [
      "[[5 2]\n",
      " [3 4]]\n"
     ]
    }
   ],
   "source": [
    "new_data = np.copy(data)\n",
    "print(new_data)"
   ]
  },
  {
   "cell_type": "markdown",
   "metadata": {
    "id": "cTsKYid3KmYv"
   },
   "source": [
    "### Creating a 2x2 array of all zeroes\n",
    "\n",
    "We create an array of all zeroes by using NumPy's zeros function."
   ]
  },
  {
   "cell_type": "code",
   "execution_count": 33,
   "metadata": {
    "colab": {
     "base_uri": "https://localhost:8080/"
    },
    "executionInfo": {
     "elapsed": 4,
     "status": "ok",
     "timestamp": 1760972935005,
     "user": {
      "displayName": "Ting Xiao",
      "userId": "00397447855881769526"
     },
     "user_tz": 300
    },
    "id": "PukGmsaDKmYv",
    "outputId": "c8121e53-e40d-4da4-a43d-182136c2d96b"
   },
   "outputs": [
    {
     "name": "stdout",
     "output_type": "stream",
     "text": [
      "[[0. 0.]\n",
      " [0. 0.]]\n"
     ]
    }
   ],
   "source": [
    "data = np.zeros((2,2))\n",
    "print(data)"
   ]
  },
  {
   "cell_type": "markdown",
   "metadata": {
    "id": "9HFDT1pgKmYv"
   },
   "source": [
    "### Creating a 2x2 array of all ones\n",
    "\n",
    "We create an array of all ones by using NumPy's ones function."
   ]
  },
  {
   "cell_type": "code",
   "execution_count": 34,
   "metadata": {
    "colab": {
     "base_uri": "https://localhost:8080/"
    },
    "executionInfo": {
     "elapsed": 8,
     "status": "ok",
     "timestamp": 1760972935013,
     "user": {
      "displayName": "Ting Xiao",
      "userId": "00397447855881769526"
     },
     "user_tz": 300
    },
    "id": "3Ugrz2vGKmYv",
    "outputId": "b77264ff-8ce9-40df-ba13-11bf7825680f"
   },
   "outputs": [
    {
     "name": "stdout",
     "output_type": "stream",
     "text": [
      "[[1. 1.]\n",
      " [1. 1.]]\n"
     ]
    }
   ],
   "source": [
    "data = np.ones((2,2))\n",
    "print(data)"
   ]
  },
  {
   "cell_type": "markdown",
   "metadata": {
    "id": "-AT-IxYSKmYv"
   },
   "source": [
    "### Slicing an array\n",
    "\n",
    "In this example, we are trying to get the first column of the array."
   ]
  },
  {
   "cell_type": "code",
   "execution_count": 35,
   "metadata": {
    "colab": {
     "base_uri": "https://localhost:8080/"
    },
    "executionInfo": {
     "elapsed": 8,
     "status": "ok",
     "timestamp": 1760972935014,
     "user": {
      "displayName": "Ting Xiao",
      "userId": "00397447855881769526"
     },
     "user_tz": 300
    },
    "id": "_qD_slMBKmYv",
    "outputId": "6c9e2aa0-662e-466c-a9a7-b7f241a77f44"
   },
   "outputs": [
    {
     "name": "stdout",
     "output_type": "stream",
     "text": [
      "[1 3]\n",
      "\n",
      "[1 3]\n"
     ]
    }
   ],
   "source": [
    "data = np.array([[1,2],[3,4]])\n",
    "\n",
    "print(data[0:2,0])\n",
    "#OR\n",
    "print()\n",
    "print(data[:,0])"
   ]
  },
  {
   "cell_type": "markdown",
   "metadata": {
    "id": "z2dTWAm2KmYv"
   },
   "source": [
    "### Copy one array into a part of an array\n",
    "\n",
    "In this example, we want to set the first column to zeroes."
   ]
  },
  {
   "cell_type": "code",
   "execution_count": 36,
   "metadata": {
    "colab": {
     "base_uri": "https://localhost:8080/"
    },
    "executionInfo": {
     "elapsed": 32,
     "status": "ok",
     "timestamp": 1760972935049,
     "user": {
      "displayName": "Ting Xiao",
      "userId": "00397447855881769526"
     },
     "user_tz": 300
    },
    "id": "H4GYthJ6KmYv",
    "outputId": "29cc7670-1d0c-4546-daae-29f99007a19b"
   },
   "outputs": [
    {
     "name": "stdout",
     "output_type": "stream",
     "text": [
      "[[1 2]\n",
      " [3 4]]\n",
      "\n",
      "[[0 2]\n",
      " [0 4]]\n"
     ]
    }
   ],
   "source": [
    "print(data)\n",
    "\n",
    "data[:,0] = [0,0]\n",
    "print()\n",
    "print(data)"
   ]
  },
  {
   "cell_type": "markdown",
   "metadata": {
    "id": "bjPLg1KkKmYv"
   },
   "source": [
    "### Transpose (flipping rows and columns)\n",
    "\n",
    "We transpose an array bu using the transpose() function."
   ]
  },
  {
   "cell_type": "code",
   "execution_count": 37,
   "metadata": {
    "colab": {
     "base_uri": "https://localhost:8080/"
    },
    "executionInfo": {
     "elapsed": 2,
     "status": "ok",
     "timestamp": 1760972935052,
     "user": {
      "displayName": "Ting Xiao",
      "userId": "00397447855881769526"
     },
     "user_tz": 300
    },
    "id": "f9MD6-QnKmYv",
    "outputId": "7b610b61-e739-4eae-8958-3c19cfc994b2"
   },
   "outputs": [
    {
     "name": "stdout",
     "output_type": "stream",
     "text": [
      "[[0 0]\n",
      " [2 4]]\n"
     ]
    }
   ],
   "source": [
    "print(data.transpose())"
   ]
  },
  {
   "cell_type": "markdown",
   "metadata": {
    "id": "s6Dm1Z38KmYv"
   },
   "source": [
    "### Combining two arrays vertically\n",
    "\n",
    "To combine two arrays vertically, we use NumPy's vstack function."
   ]
  },
  {
   "cell_type": "code",
   "execution_count": 38,
   "metadata": {
    "colab": {
     "base_uri": "https://localhost:8080/"
    },
    "executionInfo": {
     "elapsed": 5,
     "status": "ok",
     "timestamp": 1760972935059,
     "user": {
      "displayName": "Ting Xiao",
      "userId": "00397447855881769526"
     },
     "user_tz": 300
    },
    "id": "S_tG8IyxKmYv",
    "outputId": "8d499a9a-9226-4257-b84c-93dbe095d1f5"
   },
   "outputs": [
    {
     "data": {
      "text/plain": [
       "array([[1, 2, 3],\n",
       "       [4, 5, 6]])"
      ]
     },
     "execution_count": 38,
     "metadata": {},
     "output_type": "execute_result"
    }
   ],
   "source": [
    "row1 = np.array([1,2,3])\n",
    "row2 = np.array([4,5,6])\n",
    "np.vstack((row1,row2))"
   ]
  },
  {
   "cell_type": "markdown",
   "metadata": {
    "id": "ASFvc2RZKmYv"
   },
   "source": [
    "### Reshaping a 1D array to a 2D array"
   ]
  },
  {
   "cell_type": "code",
   "execution_count": 39,
   "metadata": {
    "colab": {
     "base_uri": "https://localhost:8080/"
    },
    "executionInfo": {
     "elapsed": 2,
     "status": "ok",
     "timestamp": 1760972935067,
     "user": {
      "displayName": "Ting Xiao",
      "userId": "00397447855881769526"
     },
     "user_tz": 300
    },
    "id": "avg4i_I4KmYv",
    "outputId": "3f29680d-a627-42b4-904d-ddb5c0a44ffa"
   },
   "outputs": [
    {
     "data": {
      "text/plain": [
       "array([[1, 2],\n",
       "       [3, 4],\n",
       "       [5, 6]])"
      ]
     },
     "execution_count": 39,
     "metadata": {},
     "output_type": "execute_result"
    }
   ],
   "source": [
    "np.arange(1,7).reshape(3,2)\n",
    "#Shape arrays row first"
   ]
  },
  {
   "cell_type": "markdown",
   "metadata": {
    "id": "ZSc_BoXyKmYv"
   },
   "source": [
    "### Reshape a 2D array into a 1D array\n",
    "\n",
    "To reshape a 2D array into a 1D array, we want to use the flatten function, which returns a copy of the array collapsed into a 1D array."
   ]
  },
  {
   "cell_type": "code",
   "execution_count": 40,
   "metadata": {
    "colab": {
     "base_uri": "https://localhost:8080/"
    },
    "executionInfo": {
     "elapsed": 1,
     "status": "ok",
     "timestamp": 1760972935068,
     "user": {
      "displayName": "Ting Xiao",
      "userId": "00397447855881769526"
     },
     "user_tz": 300
    },
    "id": "kifFGQZVKmYw",
    "outputId": "136cf6e0-6c04-42c6-da94-af517b33ebc0"
   },
   "outputs": [
    {
     "name": "stdout",
     "output_type": "stream",
     "text": [
      "[0 2 0 4]\n"
     ]
    }
   ],
   "source": [
    "print(data.flatten())"
   ]
  },
  {
   "cell_type": "markdown",
   "metadata": {
    "id": "elNiHGSnKmYw"
   },
   "source": [
    "# Helpful Links\n",
    "\n",
    "\n",
    "1. https://sebastianraschka.com/blog/2014/matrix_cheatsheet_table.html\n",
    "2. https://cheatsheets.quantecon.org/\n",
    "3. http://hyperpolyglot.org/numerical-analysis\n",
    "4. http://mathesaurus.sourceforge.net/matlab-python-xref.pdf\n"
   ]
  }
 ],
 "metadata": {
  "colab": {
   "provenance": []
  },
  "kernelspec": {
   "display_name": "base",
   "language": "python",
   "name": "python3"
  },
  "language_info": {
   "codemirror_mode": {
    "name": "ipython",
    "version": 3
   },
   "file_extension": ".py",
   "mimetype": "text/x-python",
   "name": "python",
   "nbconvert_exporter": "python",
   "pygments_lexer": "ipython3",
   "version": "3.12.3"
  }
 },
 "nbformat": 4,
 "nbformat_minor": 0
}
