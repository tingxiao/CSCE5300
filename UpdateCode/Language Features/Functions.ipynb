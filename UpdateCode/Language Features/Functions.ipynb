{
 "cells": [
  {
   "cell_type": "markdown",
   "metadata": {
    "id": "LGxMFUYILDoi"
   },
   "source": [
    "# Functions\n",
    "\n",
    "Functions are used in Python to carry out specified tasks. They reduce the amount of code you need to write and make the code easier to understand. These functions can include multiple arguments, and they can also return one or more values. We will discuss parameters and return values later in the tutorial, but for now, let's learn about how to create functions!"
   ]
  },
  {
   "cell_type": "markdown",
   "metadata": {
    "id": "DExD3qMALDok"
   },
   "source": [
    "## Defining a function\n",
    "\n",
    "**Steps:**\n",
    "1. Use the keyword \"def\" to declare the function and follow with the function name.\n",
    "2. Add parameters to the function: they should be within the parantheses that follow the function name. Follow the parantheses with a colon \":\".\n",
    "3. Within the function body, include code statements that the function should execute.\n",
    "4. End your function with a return statement if the function should output something such as an integer or String. If you don't have a return statement, the function will return an object None.\n"
   ]
  },
  {
   "cell_type": "code",
   "execution_count": 2,
   "metadata": {
    "executionInfo": {
     "elapsed": 2,
     "status": "ok",
     "timestamp": 1760973052504,
     "user": {
      "displayName": "Ting Xiao",
      "userId": "00397447855881769526"
     },
     "user_tz": 300
    },
    "id": "qu5DterXLDol"
   },
   "outputs": [],
   "source": [
    "#Creating a function that prints Hello, World!\n",
    "def hello_world():\n",
    "    print('Hello, World!')\n",
    "    return"
   ]
  },
  {
   "cell_type": "markdown",
   "metadata": {
    "id": "YYZDOQF3LDom"
   },
   "source": [
    "## Calling a function\n",
    "\n",
    "When one calls a function, he or she wants to execute the function that they have defined. In Python, one can call a function simply by typing the name of the function with its parantheses and running the statement. If the function has arguments, the user needs to make sure to supply them before calling the function."
   ]
  },
  {
   "cell_type": "code",
   "execution_count": 3,
   "metadata": {
    "colab": {
     "base_uri": "https://localhost:8080/"
    },
    "executionInfo": {
     "elapsed": 3,
     "status": "ok",
     "timestamp": 1760973052508,
     "user": {
      "displayName": "Ting Xiao",
      "userId": "00397447855881769526"
     },
     "user_tz": 300
    },
    "id": "96XrKVTRLDom",
    "outputId": "896d9450-f529-4034-e70f-157b94137d85"
   },
   "outputs": [
    {
     "name": "stdout",
     "output_type": "stream",
     "text": [
      "Hello, World!\n"
     ]
    }
   ],
   "source": [
    "hello_world()"
   ]
  },
  {
   "cell_type": "markdown",
   "metadata": {
    "id": "CCkuBKjULDon"
   },
   "source": [
    "## Adding Docstrings to a Python function\n",
    "\n",
    "Docstrings describe what your function does, such as the computations it performs or the values it returns. Docstrings serve as documentation for your function, so others who want to execute your function know its behavior and know what to expect when it is run.\n",
    "\n",
    "Function docstrings are placed in the immediate line after the function header and are placed in between triple quotation marks \"\"\" \"\"\".\n",
    "\n",
    "We are going to add docstrings to our hello_world() function to convey how docstrings are used."
   ]
  },
  {
   "cell_type": "code",
   "execution_count": 4,
   "metadata": {
    "colab": {
     "base_uri": "https://localhost:8080/"
    },
    "executionInfo": {
     "elapsed": 1,
     "status": "ok",
     "timestamp": 1760973052510,
     "user": {
      "displayName": "Ting Xiao",
      "userId": "00397447855881769526"
     },
     "user_tz": 300
    },
    "id": "S2xhlbMJLDon",
    "outputId": "dc09fe14-7832-4e08-8290-748a2af7cb30"
   },
   "outputs": [
    {
     "name": "stdout",
     "output_type": "stream",
     "text": [
      "Hello, World!\n"
     ]
    }
   ],
   "source": [
    "def hello_world():\n",
    "    \"\"\"\n",
    "    Prints Hello, World!\n",
    "    Returns: None\n",
    "    \"\"\"\n",
    "    print('Hello, World!')\n",
    "    return\n",
    "\n",
    "hello_world()"
   ]
  },
  {
   "cell_type": "markdown",
   "metadata": {
    "id": "U9M6cx-mLDon"
   },
   "source": [
    "## Function Arguments in Python\n",
    "\n",
    "Arguments are the things that are given to any function or method call.\n",
    "\n",
    "There are four types of arguments that Python functions can take:\n",
    "<ol type = \"1\">\n",
    "    <li> Default arguments </li>\n",
    "    <li> Required arguments </li>\n",
    "    <li> Keyword arguments </li>\n",
    "    <li> Variable number of arguments </li>"
   ]
  },
  {
   "cell_type": "markdown",
   "metadata": {
    "id": "sJaMd2nPLDoo"
   },
   "source": [
    "### Default arguments\n",
    "\n",
    "Default arguments are those that take a default value if no argument value is passed during the function call. You can assign this default value with the assignment operator \"=\". In the following example, we set a,b=2 in the parantheses of the function, which is the default value of the variables a & b."
   ]
  },
  {
   "cell_type": "code",
   "execution_count": 5,
   "metadata": {
    "colab": {
     "base_uri": "https://localhost:8080/"
    },
    "executionInfo": {
     "elapsed": 45,
     "status": "ok",
     "timestamp": 1760973052556,
     "user": {
      "displayName": "Ting Xiao",
      "userId": "00397447855881769526"
     },
     "user_tz": 300
    },
    "id": "ZsWnsQVuLDoo",
    "outputId": "3a687339-c375-44df-f168-825b94f17a33"
   },
   "outputs": [
    {
     "name": "stdout",
     "output_type": "stream",
     "text": [
      "3\n",
      "5\n"
     ]
    }
   ],
   "source": [
    "def plus(a,b=2):\n",
    "    return a+b\n",
    "\n",
    "#Returns 3\n",
    "print(plus(a=1))\n",
    "#Returns 5\n",
    "print(plus(a=2,b=3))"
   ]
  },
  {
   "cell_type": "markdown",
   "metadata": {
    "id": "uc2pI0K3LDoo"
   },
   "source": [
    "### Required arguments\n",
    "\n",
    "Required arguments are those values that have to be passed during a function call; they also need to be in exactly the right order. In the following example, since a & b are not given default values, whenever an user wants to call the plus() function, he or she needs to specify values for BOTH a & b."
   ]
  },
  {
   "cell_type": "code",
   "execution_count": 6,
   "metadata": {
    "colab": {
     "base_uri": "https://localhost:8080/"
    },
    "executionInfo": {
     "elapsed": 23,
     "status": "ok",
     "timestamp": 1760973052580,
     "user": {
      "displayName": "Ting Xiao",
      "userId": "00397447855881769526"
     },
     "user_tz": 300
    },
    "id": "0toLSFr9LDoo",
    "outputId": "e617463c-359a-4d09-c137-db176e8e8110"
   },
   "outputs": [
    {
     "data": {
      "text/plain": [
       "5"
      ]
     },
     "execution_count": 6,
     "metadata": {},
     "output_type": "execute_result"
    }
   ],
   "source": [
    "def plus (a,b):\n",
    "    return a+b\n",
    "\n",
    "plus(2,3)"
   ]
  },
  {
   "cell_type": "markdown",
   "metadata": {
    "id": "ajknl6HtLDop"
   },
   "source": [
    "### Keyword arguments\n",
    "\n",
    "Keyword arguments can be used to ensure that all of the parameters of a function are called in the right order. We use keyword arguments to identify the arguments by their parameter name. For example, using the function from above, if we wanted to use keyword arguments, we would assign specific values to a & b with the assignment operator \"=\"."
   ]
  },
  {
   "cell_type": "code",
   "execution_count": 7,
   "metadata": {
    "colab": {
     "base_uri": "https://localhost:8080/"
    },
    "executionInfo": {
     "elapsed": 78,
     "status": "ok",
     "timestamp": 1760973052663,
     "user": {
      "displayName": "Ting Xiao",
      "userId": "00397447855881769526"
     },
     "user_tz": 300
    },
    "id": "EeUAMYxZLDop",
    "outputId": "4431871d-95f2-48b4-839e-de174a5e40d0"
   },
   "outputs": [
    {
     "data": {
      "text/plain": [
       "6"
      ]
     },
     "execution_count": 7,
     "metadata": {},
     "output_type": "execute_result"
    }
   ],
   "source": [
    "plus(a=5,b=1)"
   ]
  },
  {
   "cell_type": "markdown",
   "metadata": {
    "id": "iSE4bVqDLDop"
   },
   "source": [
    "### Variable number of arguments\n",
    "\n",
    "If you are unsure about the exact number of arguments that you want to pass to a function, you can use \"\\*args\" in the parantheses of your function header. You can also provide any variable name following the \"\\*\", as long as the \"\\*\" follows the variable name. We will provide an example by modifying the plus() function."
   ]
  },
  {
   "cell_type": "code",
   "execution_count": 8,
   "metadata": {
    "colab": {
     "base_uri": "https://localhost:8080/"
    },
    "executionInfo": {
     "elapsed": 52,
     "status": "ok",
     "timestamp": 1760973052717,
     "user": {
      "displayName": "Ting Xiao",
      "userId": "00397447855881769526"
     },
     "user_tz": 300
    },
    "id": "M2nWL467LDop",
    "outputId": "18d1d099-7dd0-49e0-8191-703b8ced2545"
   },
   "outputs": [
    {
     "data": {
      "text/plain": [
       "20"
      ]
     },
     "execution_count": 8,
     "metadata": {},
     "output_type": "execute_result"
    }
   ],
   "source": [
    "def plus(*vars):\n",
    "    return sum(vars)\n",
    "\n",
    "#Returns 20\n",
    "plus(2,4,6,8)"
   ]
  },
  {
   "cell_type": "markdown",
   "metadata": {
    "id": "qQ6W1EN3LDop"
   },
   "source": [
    "We used Python's built-in sum() function to create the function above. However, you could also get the same result by doing the following:"
   ]
  },
  {
   "cell_type": "code",
   "execution_count": 9,
   "metadata": {
    "colab": {
     "base_uri": "https://localhost:8080/"
    },
    "executionInfo": {
     "elapsed": 3,
     "status": "ok",
     "timestamp": 1760973052721,
     "user": {
      "displayName": "Ting Xiao",
      "userId": "00397447855881769526"
     },
     "user_tz": 300
    },
    "id": "3RDd-lecLDop",
    "outputId": "28d7a6d4-1760-4c8d-e777-28d147017d25"
   },
   "outputs": [
    {
     "data": {
      "text/plain": [
       "20"
      ]
     },
     "execution_count": 9,
     "metadata": {},
     "output_type": "execute_result"
    }
   ],
   "source": [
    "def plus(*vars):\n",
    "    total = 0\n",
    "    for i in vars:\n",
    "        total += i\n",
    "    return total\n",
    "\n",
    "plus(2,4,6,8)"
   ]
  },
  {
   "cell_type": "markdown",
   "metadata": {
    "id": "H_nUefsTLDop"
   },
   "source": [
    "## Return Statements\n",
    "\n",
    "Return statements are used to return various values in functions, such as a String, an integer, etc.\n",
    "\n",
    "You can even return multiple values in your return statements! If you want to return multiple values, you must use tuples, which is a data structure that is very similar to a list. However, tuples are immutable, which means that you can't modify any of the values that are stored in them. You construct tuples by using double parantheses \"()\".\n",
    "\n",
    "We will provide an example that shows how a return statement can return multiple values!"
   ]
  },
  {
   "cell_type": "code",
   "execution_count": 10,
   "metadata": {
    "colab": {
     "base_uri": "https://localhost:8080/"
    },
    "executionInfo": {
     "elapsed": 2,
     "status": "ok",
     "timestamp": 1760973052724,
     "user": {
      "displayName": "Ting Xiao",
      "userId": "00397447855881769526"
     },
     "user_tz": 300
    },
    "id": "S_U0e_3BLDop",
    "outputId": "2b89fada-1597-442a-b87a-352b41c93eec"
   },
   "outputs": [
    {
     "name": "stdout",
     "output_type": "stream",
     "text": [
      "5\n",
      "3\n"
     ]
    }
   ],
   "source": [
    "#Define plus function with a multiple return statement\n",
    "def plus(a,b):\n",
    "    sum = a+b\n",
    "    return (sum,a)\n",
    "\n",
    "#Unpack variables\n",
    "#sum = 5\n",
    "#a = 3\n",
    "sum, a = plus(3,2)\n",
    "\n",
    "print(sum)\n",
    "print(a)"
   ]
  },
  {
   "cell_type": "markdown",
   "metadata": {
    "id": "qo3shA4uLDoq"
   },
   "source": [
    "## Global vs. Local Variables\n",
    "\n",
    "Variables that are defined inside a function body have a local scope, while those that are defined outside a function body have a global scope.\n",
    "\n",
    "Local variables can only be accessed and manipulated within the body of the function of which they are defined. Global variables can be accessed by all functions within your program.\n",
    "\n",
    "The following example shows how the global variable \"g_var\" can be accessed outside of the function body; however, the local variable \"total\" is unable to be printed out outside of the function body of the plus() function."
   ]
  },
  {
   "cell_type": "code",
   "execution_count": 12,
   "metadata": {
    "colab": {
     "base_uri": "https://localhost:8080/",
     "height": 198
    },
    "executionInfo": {
     "elapsed": 55,
     "status": "error",
     "timestamp": 1760973052823,
     "user": {
      "displayName": "Ting Xiao",
      "userId": "00397447855881769526"
     },
     "user_tz": 300
    },
    "id": "-x-hvqsHLDoq",
    "outputId": "a846513f-0a05-4c45-c466-114373b0c8b9"
   },
   "outputs": [
    {
     "name": "stdout",
     "output_type": "stream",
     "text": [
      "this is the initialized value 1\n",
      "this is the sum 20\n"
     ]
    }
   ],
   "source": [
    "# Global variable `init`\n",
    "g_var = 1\n",
    "\n",
    "# Define `plus()` function to accept a variable number of arguments\n",
    "def plus(*args):\n",
    "    # Local variable `total`\n",
    "    total = 0\n",
    "    for i in args:\n",
    "        total += i\n",
    "    return total\n",
    "\n",
    "# Access the global variable\n",
    "print(\"this is the initialized value \" + str(g_var))\n",
    "\n",
    "# Correct way to get the sum: call the function and print its return value\n",
    "result = plus(2, 4, 6, 8)\n",
    "print(\"this is the sum \" + str(result))\n",
    "\n",
    "# Note: `total` is local to `plus()` and cannot be accessed here (would raise NameError)"
   ]
  },
  {
   "cell_type": "markdown",
   "metadata": {
    "id": "0QvnG3G1LDoq"
   },
   "source": [
    "## Helpful Hints"
   ]
  },
  {
   "cell_type": "markdown",
   "metadata": {
    "id": "BKC0xUo1LDoq"
   },
   "source": [
    "### Guides\n",
    "\n",
    "1. https://anh.cs.luc.edu/python/hands-on/3.1/handsonHtml/functions.html\n",
    "2. https://www.datacamp.com/community/tutorials/functions-python-tutorial\n",
    "3. https://docs.python.org/3/tutorial/controlflow.html#defining-functions"
   ]
  },
  {
   "cell_type": "code",
   "execution_count": null,
   "metadata": {
    "executionInfo": {
     "elapsed": 324,
     "status": "aborted",
     "timestamp": 1760973052665,
     "user": {
      "displayName": "Ting Xiao",
      "userId": "00397447855881769526"
     },
     "user_tz": 300
    },
    "id": "pNL9bm-ULDoq"
   },
   "outputs": [],
   "source": []
  }
 ],
 "metadata": {
  "colab": {
   "provenance": []
  },
  "kernelspec": {
   "display_name": "base",
   "language": "python",
   "name": "python3"
  },
  "language_info": {
   "codemirror_mode": {
    "name": "ipython",
    "version": 3
   },
   "file_extension": ".py",
   "mimetype": "text/x-python",
   "name": "python",
   "nbconvert_exporter": "python",
   "pygments_lexer": "ipython3",
   "version": "3.12.3"
  }
 },
 "nbformat": 4,
 "nbformat_minor": 0
}
