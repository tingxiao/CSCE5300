{
 "cells": [
  {
   "cell_type": "markdown",
   "metadata": {
    "id": "LLbD_S9YLe9O"
   },
   "source": [
    "# Object Oriented Programming"
   ]
  },
  {
   "cell_type": "markdown",
   "metadata": {
    "id": "LC7ZEtL_Le9Q"
   },
   "source": [
    "Object Oriented Programming (OOP) tends to be one of the major obstacles for beginners when they are first starting to learn Python.\n",
    "\n",
    "There are many,many tutorials and lessons covering OOP so feel free to Google search other lessons, and there are also some links to other useful tutorials online at the bottom of this Notebook.\n",
    "\n",
    "In this notebook we will construct our knowledge of OOP in Python by building on the following topics:\n",
    "\n",
    "* Objects\n",
    "* Using the class keyword\n",
    "* Creating class attributes\n",
    "* Creating methods in a class\n",
    "* Inheritance\n",
    "* Special Methods for classes\n",
    "\n",
    "Lets start the lesson by remembering about the Basic Python Objects. For example:"
   ]
  },
  {
   "cell_type": "code",
   "execution_count": 1,
   "metadata": {
    "executionInfo": {
     "elapsed": 13,
     "status": "ok",
     "timestamp": 1760973163923,
     "user": {
      "displayName": "Ting Xiao",
      "userId": "00397447855881769526"
     },
     "user_tz": 300
    },
    "id": "TWuOwR6NLe9Q"
   },
   "outputs": [],
   "source": [
    "l = [1,2,3]"
   ]
  },
  {
   "cell_type": "markdown",
   "metadata": {
    "id": "suuz5LSPLe9R"
   },
   "source": [
    "Remember how we could call methods on a list?"
   ]
  },
  {
   "cell_type": "code",
   "execution_count": 2,
   "metadata": {
    "colab": {
     "base_uri": "https://localhost:8080/"
    },
    "executionInfo": {
     "elapsed": 12,
     "status": "ok",
     "timestamp": 1760973164006,
     "user": {
      "displayName": "Ting Xiao",
      "userId": "00397447855881769526"
     },
     "user_tz": 300
    },
    "id": "_QY6p7qwLe9R",
    "outputId": "6501be80-9a72-4626-e550-2a094167a5db"
   },
   "outputs": [
    {
     "data": {
      "text/plain": [
       "1"
      ]
     },
     "execution_count": 2,
     "metadata": {},
     "output_type": "execute_result"
    }
   ],
   "source": [
    "l.count(2)"
   ]
  },
  {
   "cell_type": "markdown",
   "metadata": {
    "id": "eonQkhZjLe9S"
   },
   "source": [
    "What we will basically be doing in this notebook is exploring how we could create an Object type like a list. We've already learned about how to create functions. So lets explore Objects in general:\n",
    "\n",
    "## Objects\n",
    "\n",
    "In Python, everything is an object. For example, we can use type() to check the type of an object:"
   ]
  },
  {
   "cell_type": "code",
   "execution_count": 3,
   "metadata": {
    "colab": {
     "base_uri": "https://localhost:8080/"
    },
    "executionInfo": {
     "elapsed": 11,
     "status": "ok",
     "timestamp": 1760973164007,
     "user": {
      "displayName": "Ting Xiao",
      "userId": "00397447855881769526"
     },
     "user_tz": 300
    },
    "id": "SoaKkCPULe9S",
    "outputId": "0284167e-1dc4-4239-9106-728ff50aa64f"
   },
   "outputs": [
    {
     "name": "stdout",
     "output_type": "stream",
     "text": [
      "<class 'int'>\n",
      "<class 'list'>\n",
      "<class 'tuple'>\n",
      "<class 'dict'>\n"
     ]
    }
   ],
   "source": [
    "print(type(1))\n",
    "print(type([]))\n",
    "print(type(()))\n",
    "print(type({}))"
   ]
  },
  {
   "cell_type": "markdown",
   "metadata": {
    "id": "eTHUlBWhLe9S"
   },
   "source": [
    "We know all these things are objects, but how can we create our own Object types? That is where the *class* keyword comes in.\n",
    "\n",
    "## class\n",
    "\n",
    "The user defined objects are created using the *class* keyword. The class is a blueprint that defines a nature of a future object. From classes we can construct instances. An instance is a specific object created from a particular class. For example, above we created the object 'l' which was an instance of a list object.\n",
    "\n",
    "Let see how we can use class:"
   ]
  },
  {
   "cell_type": "code",
   "execution_count": 4,
   "metadata": {
    "colab": {
     "base_uri": "https://localhost:8080/"
    },
    "executionInfo": {
     "elapsed": 9,
     "status": "ok",
     "timestamp": 1760973164007,
     "user": {
      "displayName": "Ting Xiao",
      "userId": "00397447855881769526"
     },
     "user_tz": 300
    },
    "id": "hlc9Lc2hLe9T",
    "outputId": "1567ad9d-91ca-4fe9-df45-c9ca649a6632"
   },
   "outputs": [
    {
     "name": "stdout",
     "output_type": "stream",
     "text": [
      "<class '__main__.Sample'>\n"
     ]
    }
   ],
   "source": [
    "# Create a new object type called Sample\n",
    "class Sample(object):\n",
    "    pass\n",
    "\n",
    "# Instance of Sample\n",
    "x = Sample()\n",
    "\n",
    "print(type(x))"
   ]
  },
  {
   "cell_type": "markdown",
   "metadata": {
    "id": "qltA3ijGLe9T"
   },
   "source": [
    "By convention we give classes a name that starts with a capital letter. Note how x is now the reference to our new instance of a Sample class. In other words, we **instantiate** the Sample class.\n",
    "\n",
    "Inside of the class we currently just have pass. But we can define class attributes and methods.\n",
    "\n",
    "An **attribute** is a characteristic of an object. A **method** is an operation we can perform with the object.\n",
    "\n",
    "For example we can create a class called Dog. An attribute of a dog may be its breed or its name, while a method of a dog may be defined by a .bark() method which returns a sound.\n",
    "\n",
    "Let's get a better understanding of attributes through an example.\n",
    "\n",
    "## Attributes\n",
    "\n",
    "The syntax for creating an attribute is:\n",
    "\n",
    "    self.attribute = something\n",
    "\n",
    "There is a special method called:\n",
    "\n",
    "    __init__()\n",
    "\n",
    "This method is used to initialize the attributes of an object. For example:"
   ]
  },
  {
   "cell_type": "code",
   "execution_count": 5,
   "metadata": {
    "executionInfo": {
     "elapsed": 8,
     "status": "ok",
     "timestamp": 1760973164007,
     "user": {
      "displayName": "Ting Xiao",
      "userId": "00397447855881769526"
     },
     "user_tz": 300
    },
    "id": "neVWHCf2Le9T"
   },
   "outputs": [],
   "source": [
    "class Dog(object):\n",
    "    def __init__(self,breed):\n",
    "        self.breed = breed\n",
    "\n",
    "sam = Dog(breed='Lab')\n",
    "frank = Dog(breed='Huskie')"
   ]
  },
  {
   "cell_type": "markdown",
   "metadata": {
    "id": "2rrDcNIvLe9T"
   },
   "source": [
    "Lets break down what we have above.The special method\n",
    "\n",
    "    __init__()\n",
    "    \n",
    "is called automatically right after the object has been created:\n",
    "\n",
    "    def __init__(self, breed):\n",
    "    \n",
    "Each attribute in a class definition begins with a reference to the instance object. It is by convention named self. The breed is the argument. The value is passed during the class instantiation.\n",
    "\n",
    "    self.breed = breed\n",
    "    \n",
    "Now we have created two instances of the Dog class. With two breed types, we can then access these attributes like this:"
   ]
  },
  {
   "cell_type": "code",
   "execution_count": 6,
   "metadata": {
    "colab": {
     "base_uri": "https://localhost:8080/",
     "height": 35
    },
    "executionInfo": {
     "elapsed": 4,
     "status": "ok",
     "timestamp": 1760973164010,
     "user": {
      "displayName": "Ting Xiao",
      "userId": "00397447855881769526"
     },
     "user_tz": 300
    },
    "id": "Cft1UMr8Le9U",
    "outputId": "acb35292-b9a5-49cf-eafe-c548e2662c6a"
   },
   "outputs": [
    {
     "data": {
      "text/plain": [
       "'Lab'"
      ]
     },
     "execution_count": 6,
     "metadata": {},
     "output_type": "execute_result"
    }
   ],
   "source": [
    "sam.breed"
   ]
  },
  {
   "cell_type": "code",
   "execution_count": 7,
   "metadata": {
    "colab": {
     "base_uri": "https://localhost:8080/",
     "height": 35
    },
    "executionInfo": {
     "elapsed": 2,
     "status": "ok",
     "timestamp": 1760973164012,
     "user": {
      "displayName": "Ting Xiao",
      "userId": "00397447855881769526"
     },
     "user_tz": 300
    },
    "id": "G7bm0lLDLe9U",
    "outputId": "9a4cfdca-d3c9-4a43-d5ae-31112655c7f5"
   },
   "outputs": [
    {
     "data": {
      "text/plain": [
       "'Huskie'"
      ]
     },
     "execution_count": 7,
     "metadata": {},
     "output_type": "execute_result"
    }
   ],
   "source": [
    "frank.breed"
   ]
  },
  {
   "cell_type": "markdown",
   "metadata": {
    "id": "BFfj6pEmLe9U"
   },
   "source": [
    "Note how we don't have any parenthesis after breed, this is because it is an attribute and doesn't take any arguments.\n",
    "\n",
    "In Python there are also *class object attributes*. These Class Object Attributes are the same for any instance of the class. For example, we could create the attribute species for the Dog class. Dogs (regardless of their breed,name, or other attributes will always be mammals. We apply this logic in the following manner:"
   ]
  },
  {
   "cell_type": "code",
   "execution_count": 8,
   "metadata": {
    "executionInfo": {
     "elapsed": 1,
     "status": "ok",
     "timestamp": 1760973164013,
     "user": {
      "displayName": "Ting Xiao",
      "userId": "00397447855881769526"
     },
     "user_tz": 300
    },
    "id": "l2ZK0V4CLe9U"
   },
   "outputs": [],
   "source": [
    "class Dog(object):\n",
    "\n",
    "    # Class Object Attribute\n",
    "    species = 'mammal'\n",
    "\n",
    "    def __init__(self,breed,name):\n",
    "        self.breed = breed\n",
    "        self.name = name"
   ]
  },
  {
   "cell_type": "code",
   "execution_count": 9,
   "metadata": {
    "executionInfo": {
     "elapsed": 3,
     "status": "ok",
     "timestamp": 1760973164041,
     "user": {
      "displayName": "Ting Xiao",
      "userId": "00397447855881769526"
     },
     "user_tz": 300
    },
    "id": "-bLK2hUWLe9U"
   },
   "outputs": [],
   "source": [
    "sam = Dog('Lab','Sam')"
   ]
  },
  {
   "cell_type": "code",
   "execution_count": 10,
   "metadata": {
    "colab": {
     "base_uri": "https://localhost:8080/",
     "height": 35
    },
    "executionInfo": {
     "elapsed": 3,
     "status": "ok",
     "timestamp": 1760973164042,
     "user": {
      "displayName": "Ting Xiao",
      "userId": "00397447855881769526"
     },
     "user_tz": 300
    },
    "id": "b6vkfH-2Le9U",
    "outputId": "f5964a3b-4570-4e8f-9d94-eb1796998ccf"
   },
   "outputs": [
    {
     "data": {
      "text/plain": [
       "'Sam'"
      ]
     },
     "execution_count": 10,
     "metadata": {},
     "output_type": "execute_result"
    }
   ],
   "source": [
    "sam.name"
   ]
  },
  {
   "cell_type": "markdown",
   "metadata": {
    "id": "HwoP68tJLe9U"
   },
   "source": [
    "Note that the Class Object Attribute is defined outside of any methods in the class. Also by convention, we place them first before the init."
   ]
  },
  {
   "cell_type": "code",
   "execution_count": 11,
   "metadata": {
    "colab": {
     "base_uri": "https://localhost:8080/",
     "height": 35
    },
    "executionInfo": {
     "elapsed": 2,
     "status": "ok",
     "timestamp": 1760973164044,
     "user": {
      "displayName": "Ting Xiao",
      "userId": "00397447855881769526"
     },
     "user_tz": 300
    },
    "id": "4EyA0XxpLe9U",
    "outputId": "5b57d6f8-08ee-4530-9b0e-c8a7fe4613aa"
   },
   "outputs": [
    {
     "data": {
      "text/plain": [
       "'mammal'"
      ]
     },
     "execution_count": 11,
     "metadata": {},
     "output_type": "execute_result"
    }
   ],
   "source": [
    "sam.species"
   ]
  },
  {
   "cell_type": "markdown",
   "metadata": {
    "id": "GV1vvQRvLe9V"
   },
   "source": [
    "## Methods\n",
    "\n",
    "Methods are functions defined inside the body of a class. They are used to perform operations with the attributes of our objects. Methods are essential in encapsulation concept of the OOP paradigm. This is essential in dividing responsibilities in programming, especially in large applications.\n",
    "\n",
    "You can basically think of methods as functions acting on an Object that take the Object itself into account through its *self* argument.\n",
    "\n",
    "Lets go through an example of creating a Circle class:"
   ]
  },
  {
   "cell_type": "code",
   "execution_count": 12,
   "metadata": {
    "colab": {
     "base_uri": "https://localhost:8080/"
    },
    "executionInfo": {
     "elapsed": 2,
     "status": "ok",
     "timestamp": 1760973164073,
     "user": {
      "displayName": "Ting Xiao",
      "userId": "00397447855881769526"
     },
     "user_tz": 300
    },
    "id": "ZjRO275XLe9V",
    "outputId": "defb1319-8b58-4c08-b952-b990af784b2e"
   },
   "outputs": [
    {
     "name": "stdout",
     "output_type": "stream",
     "text": [
      "Radius is:  2\n",
      "Area is:  12.56\n"
     ]
    }
   ],
   "source": [
    "class Circle(object):\n",
    "    pi = 3.14\n",
    "\n",
    "    # Circle get instantiated with a radius (default is 1)\n",
    "    def __init__(self, radius=1):\n",
    "        self.radius = radius\n",
    "\n",
    "    # Area method calculates the area. Note the use of self.\n",
    "    def area(self):\n",
    "        return self.radius * self.radius * Circle.pi\n",
    "\n",
    "    # Method for resetting Radius\n",
    "    def setRadius(self, radius):\n",
    "        self.radius = radius\n",
    "\n",
    "    # Method for getting radius (Same as just calling .radius)\n",
    "    def getRadius(self):\n",
    "        return self.radius\n",
    "\n",
    "\n",
    "c = Circle()\n",
    "\n",
    "c.setRadius(2)\n",
    "print('Radius is: ',c.getRadius())\n",
    "print('Area is: ',c.area())"
   ]
  },
  {
   "cell_type": "markdown",
   "metadata": {
    "id": "1d-1C4YQLe9V"
   },
   "source": [
    "Notice how we used self. notation to reference attributes of the class within the method calls. Review how the code above works and try creating your own method.\n",
    "\n",
    "## Inheritance\n",
    "\n",
    "Inheritance is a way to form new classes using classes that have already been defined. The newly formed classes are called derived classes; the classes that we derive from are called base classes. Important benefits of inheritance are code reuse and reduction of complexity of a program. The derived classes (descendants) override or extend the functionality of base classes (ancestors).\n",
    "\n",
    "Lets see an example by incorporating our previous work on the Dog class:"
   ]
  },
  {
   "cell_type": "code",
   "execution_count": 13,
   "metadata": {
    "executionInfo": {
     "elapsed": 2,
     "status": "ok",
     "timestamp": 1760973164076,
     "user": {
      "displayName": "Ting Xiao",
      "userId": "00397447855881769526"
     },
     "user_tz": 300
    },
    "id": "utiXTcHCLe9V"
   },
   "outputs": [],
   "source": [
    "class Animal(object):\n",
    "    def __init__(self):\n",
    "        print(\"Animal created\")\n",
    "\n",
    "    def whoAmI(self):\n",
    "        print(\"Animal\")\n",
    "\n",
    "    def eat(self):\n",
    "        print(\"Eating\")\n",
    "\n",
    "\n",
    "class Dog(Animal):\n",
    "    def __init__(self):\n",
    "        Animal.__init__(self)\n",
    "        print(\"Dog created\")\n",
    "\n",
    "    def whoAmI(self):\n",
    "        print(\"Dog\")\n",
    "\n",
    "    def bark(self):\n",
    "        print(\"Woof!\")"
   ]
  },
  {
   "cell_type": "code",
   "execution_count": 14,
   "metadata": {
    "colab": {
     "base_uri": "https://localhost:8080/"
    },
    "executionInfo": {
     "elapsed": 3,
     "status": "ok",
     "timestamp": 1760973164079,
     "user": {
      "displayName": "Ting Xiao",
      "userId": "00397447855881769526"
     },
     "user_tz": 300
    },
    "id": "6DNdB4dGLe9V",
    "outputId": "92623bbf-f971-4793-f893-0af71640d1b0"
   },
   "outputs": [
    {
     "name": "stdout",
     "output_type": "stream",
     "text": [
      "Animal created\n",
      "Dog created\n"
     ]
    }
   ],
   "source": [
    "d = Dog()"
   ]
  },
  {
   "cell_type": "code",
   "execution_count": 15,
   "metadata": {
    "colab": {
     "base_uri": "https://localhost:8080/"
    },
    "executionInfo": {
     "elapsed": 27,
     "status": "ok",
     "timestamp": 1760973164107,
     "user": {
      "displayName": "Ting Xiao",
      "userId": "00397447855881769526"
     },
     "user_tz": 300
    },
    "id": "L3Vh-CXeLe9V",
    "outputId": "62ccc8eb-a390-4c7e-82c6-d4bef0244fbb"
   },
   "outputs": [
    {
     "name": "stdout",
     "output_type": "stream",
     "text": [
      "Dog\n"
     ]
    }
   ],
   "source": [
    "d.whoAmI()"
   ]
  },
  {
   "cell_type": "code",
   "execution_count": 16,
   "metadata": {
    "colab": {
     "base_uri": "https://localhost:8080/"
    },
    "executionInfo": {
     "elapsed": 2,
     "status": "ok",
     "timestamp": 1760973164110,
     "user": {
      "displayName": "Ting Xiao",
      "userId": "00397447855881769526"
     },
     "user_tz": 300
    },
    "id": "fp_TExw-Le9V",
    "outputId": "8d5cbd68-6f6f-48e1-e6b8-6581b0cd58ce"
   },
   "outputs": [
    {
     "name": "stdout",
     "output_type": "stream",
     "text": [
      "Eating\n"
     ]
    }
   ],
   "source": [
    "d.eat()"
   ]
  },
  {
   "cell_type": "code",
   "execution_count": 17,
   "metadata": {
    "colab": {
     "base_uri": "https://localhost:8080/"
    },
    "executionInfo": {
     "elapsed": 2,
     "status": "ok",
     "timestamp": 1760973164112,
     "user": {
      "displayName": "Ting Xiao",
      "userId": "00397447855881769526"
     },
     "user_tz": 300
    },
    "id": "4AeRLik2Le9V",
    "outputId": "f1b15fd1-2896-4027-a62b-40af18eeea0a"
   },
   "outputs": [
    {
     "name": "stdout",
     "output_type": "stream",
     "text": [
      "Woof!\n"
     ]
    }
   ],
   "source": [
    "d.bark()"
   ]
  },
  {
   "cell_type": "markdown",
   "metadata": {
    "id": "nMBfmJx2Le9V"
   },
   "source": [
    "In this example, we have two classes: Animal and Dog. The Animal is the base class, the Dog is the derived class.\n",
    "\n",
    "The derived class inherits the functionality of the base class.\n",
    "\n",
    "* It is shown by the eat() method.\n",
    "\n",
    "The derived class modifies existing behavior of the base class.\n",
    "\n",
    "* It is shown by the whoAmI() method.\n",
    "\n",
    "Finally, the derived class extends the functionality of the base class, by defining a new bark() method.\n",
    "\n",
    "## Special Methods\n",
    "\n",
    "Finally lets go over special methods. Classes in Python can implement certain operations with special method names. These methods are not actually called directly but by Python specific language syntax. For example Lets create a Book class:"
   ]
  },
  {
   "cell_type": "code",
   "execution_count": 18,
   "metadata": {
    "executionInfo": {
     "elapsed": 0,
     "status": "ok",
     "timestamp": 1760973164112,
     "user": {
      "displayName": "Ting Xiao",
      "userId": "00397447855881769526"
     },
     "user_tz": 300
    },
    "id": "QXaWHPNwLe9W"
   },
   "outputs": [],
   "source": [
    "class Book(object):\n",
    "    def __init__(self, title, author, pages):\n",
    "        print(\"A book is created\")\n",
    "        self.title = title\n",
    "        self.author = author\n",
    "        self.pages = pages\n",
    "\n",
    "    def __str__(self):\n",
    "        return \"Title:%s , author:%s, pages:%s \" %(self.title, self.author, self.pages)\n",
    "\n",
    "    def __len__(self):\n",
    "        return self.pages\n",
    "\n",
    "    def __del__(self):\n",
    "        print(\"A book is destroyed\")"
   ]
  },
  {
   "cell_type": "code",
   "execution_count": 19,
   "metadata": {
    "colab": {
     "base_uri": "https://localhost:8080/"
    },
    "executionInfo": {
     "elapsed": 25,
     "status": "ok",
     "timestamp": 1760973164138,
     "user": {
      "displayName": "Ting Xiao",
      "userId": "00397447855881769526"
     },
     "user_tz": 300
    },
    "id": "2SNegoyVLe9W",
    "outputId": "bf8a6c81-08b0-4c58-cdd4-9e5a137c8ae3"
   },
   "outputs": [
    {
     "name": "stdout",
     "output_type": "stream",
     "text": [
      "A book is created\n",
      "Title:Python Rocks! , author:Jose Portilla, pages:159 \n",
      "159\n",
      "A book is destroyed\n"
     ]
    }
   ],
   "source": [
    "book = Book(\"Python Rocks!\", \"Jose Portilla\", 159)\n",
    "\n",
    "#Special Methods: The __init__(), __str__(), __len__() and the __del__() methods.\n",
    "print(book)\n",
    "print(len(book))\n",
    "del(book)"
   ]
  },
  {
   "cell_type": "markdown",
   "metadata": {
    "id": "PJFuQtyoLe9W"
   },
   "source": [
    "These special methods are defined by their use of underscores. They allow us to use Python specific functions on objects created through our class.\n",
    "\n",
    "For more great resources on this topic, check out:\n",
    "\n",
    "[Jeff Knupp's Post](https://www.jeffknupp.com/blog/2014/06/18/improve-your-python-python-classes-and-object-oriented-programming/)\n",
    "\n",
    "[Tutorial's Point](https://www.tutorialspoint.com/python/python_classes_objects.htm)\n",
    "\n",
    "[Official Documentation](https://docs.python.org/2/tutorial/classes.html)"
   ]
  }
 ],
 "metadata": {
  "colab": {
   "provenance": []
  },
  "kernelspec": {
   "display_name": "base",
   "language": "python",
   "name": "python3"
  },
  "language_info": {
   "codemirror_mode": {
    "name": "ipython",
    "version": 3
   },
   "file_extension": ".py",
   "mimetype": "text/x-python",
   "name": "python",
   "nbconvert_exporter": "python",
   "pygments_lexer": "ipython3",
   "version": "3.12.3"
  }
 },
 "nbformat": 4,
 "nbformat_minor": 0
}
